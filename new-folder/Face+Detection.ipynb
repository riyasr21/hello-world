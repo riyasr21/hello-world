{
 "cells": [
  {
   "cell_type": "code",
   "execution_count": 1,
   "metadata": {
    "collapsed": true
   },
   "outputs": [],
   "source": [
    "import cv2\n",
    "# HAARCASCDE_FRONTAL_FACE"
   ]
  },
  {
   "cell_type": "code",
   "execution_count": 2,
   "metadata": {
    "collapsed": true
   },
   "outputs": [],
   "source": [
    "#declare path of image\n",
    "imagepath='D:/sample2.jpg'\n",
    "#\n",
    "algopath='D:/aa.xml'"
   ]
  },
  {
   "cell_type": "code",
   "execution_count": 3,
   "metadata": {
    "collapsed": false
   },
   "outputs": [],
   "source": [
    "image=cv2.imread(imagepath)\n",
    "image=cv2.resize(image,(500,500))\n"
   ]
  },
  {
   "cell_type": "code",
   "execution_count": 4,
   "metadata": {
    "collapsed": false
   },
   "outputs": [],
   "source": [
    "fcascade=cv2.CascadeClassifier(algopath)\n",
    "faces=fcascade.detectMultiScale(image,minSize=(50,50),\n",
    "                         scaleFactor=1.1,\n",
    "                         minNeighbors=5,\n",
    "                         flags=cv2.CASCADE_SCALE_IMAGE)"
   ]
  },
  {
   "cell_type": "code",
   "execution_count": null,
   "metadata": {
    "collapsed": false
   },
   "outputs": [],
   "source": [
    "faces   #(x,y,w,h)"
   ]
  },
  {
   "cell_type": "code",
   "execution_count": null,
   "metadata": {
    "collapsed": false
   },
   "outputs": [],
   "source": [
    "len(faces)"
   ]
  },
  {
   "cell_type": "code",
   "execution_count": null,
   "metadata": {
    "collapsed": false
   },
   "outputs": [],
   "source": [
    "for (x,y,w,h) in faces:\n",
    "    cv2.rectangle(image,(x,y),(x+w,y+h),(0,255,0),2)\n",
    "cv2.imshow(str(len(faces))+' Faces',image)\n",
    "cv2.waitKey(0)\n",
    "cv2.destroyAllWindows()\n",
    "\n",
    "    \n",
    "    "
   ]
  },
  {
   "cell_type": "code",
   "execution_count": null,
   "metadata": {
    "collapsed": true
   },
   "outputs": [],
   "source": [
    "img=cv2.VideoCapture(0)\n",
    "state,pix=img.read()\n",
    "cv2.imshow('My_image',pix)\n",
    "cv2.imwrite('D:/img1.jpg',pix)\n",
    "cv2.waitKey(0)\n",
    "img.release()\n",
    "cv2.destroyAllWindows()"
   ]
  },
  {
   "cell_type": "code",
   "execution_count": null,
   "metadata": {
    "collapsed": true
   },
   "outputs": [],
   "source": [
    "imagepath='D:/img1.jpg'\n",
    "image=cv2.imread(imagepath)\n",
    "image=cv2.resize(image,(500,500))\n",
    "fcascade=cv2.CascadeClassifier(algopath)\n",
    "faces=fcascade.detectMultiScale(image,minSize=(50,50),\n",
    "                         scaleFactor=1.1,\n",
    "                         minNeighbors=5,\n",
    "                         flags=cv2.CASCADE_SCALE_IMAGE)\n",
    "for (x,y,w,h) in faces:\n",
    "    cv2.rectangle(image,(x,y),(x+w,y+h),(0,255,0),2)\n",
    "cv2.imshow(str(len(faces))+' Faces',image)\n",
    "cv2.waitKey(0)\n",
    "cv2.destroyAllWindows()\n",
    "\n",
    "    "
   ]
  },
  {
   "cell_type": "code",
   "execution_count": 1,
   "metadata": {
    "collapsed": false
   },
   "outputs": [
    {
     "name": "stdout",
     "output_type": "stream",
     "text": [
      "696\n"
     ]
    }
   ],
   "source": [
    "import cv2,time\n",
    "img=cv2.VideoCapture(0)\n",
    "a=1\n",
    "while True:\n",
    "    a+=1\n",
    "    state,pix=img.read()\n",
    "    gray=cv2.cvtColor(pix,cv2.COLOR_BGR2GRAY)   #to convert to grayscale image\n",
    "    cv2.imshow('my_img',pix)\n",
    "    cv2.imwrite('D:/my_image.jpg',pix)\n",
    "    key=cv2.waitKey(1)\n",
    "    if key==ord('a'):\n",
    "        break\n",
    "print(a)\n",
    "img.release()\n",
    "cv2.destroyAllWindows()"
   ]
  },
  {
   "cell_type": "code",
   "execution_count": 7,
   "metadata": {
    "collapsed": false
   },
   "outputs": [
    {
     "name": "stdout",
     "output_type": "stream",
     "text": [
      "271\n"
     ]
    }
   ],
   "source": [
    "import cv2,time\n",
    "img=cv2.VideoCapture(0)\n",
    "a=1\n",
    "while True:\n",
    "    a+=1\n",
    "    state,pix=img.read()\n",
    "    \n",
    "    gray=cv2.cvtColor(pix,cv2.COLOR_BGR2GRAY)   #to convert to grayscale image\n",
    "    faces=fcascade.detectMultiScale(pix,minSize=(50,50),\n",
    "                         scaleFactor=1.1,\n",
    "                         minNeighbors=5,\n",
    "                         flags=cv2.CASCADE_SCALE_IMAGE)\n",
    "    #cv2.imshow(str(len(faces))+'my_img',pix)\n",
    "    for (x,y,w,h) in faces:\n",
    "        cv2.rectangle(pix,(x,y),(x+w,y+h),(0,255,0),2)\n",
    "        cv2.imshow(str(len(faces))+'my_img',pix)\n",
    "        #cv2.imwrite('D:/'+str(len(faces))+'my_img',pix)\n",
    "    cv2.imwrite('D:/my_image.jpg',pix)\n",
    "    key=cv2.waitKey(1)\n",
    "    if key==ord('a'):\n",
    "        break\n",
    "print(a)\n",
    "img.release()\n",
    "cv2.destroyAllWindows()"
   ]
  },
  {
   "cell_type": "code",
   "execution_count": null,
   "metadata": {
    "collapsed": true
   },
   "outputs": [],
   "source": []
  },
  {
   "cell_type": "code",
   "execution_count": null,
   "metadata": {
    "collapsed": true
   },
   "outputs": [],
   "source": [
    "conda create -n myenv tensorflow\n",
    "activate myenv\n",
    "conda install -c conda-forge opencv\n"
   ]
  }
 ],
 "metadata": {
  "kernelspec": {
   "display_name": "Python 3",
   "language": "python",
   "name": "python3"
  },
  "language_info": {
   "codemirror_mode": {
    "name": "ipython",
    "version": 3
   },
   "file_extension": ".py",
   "mimetype": "text/x-python",
   "name": "python",
   "nbconvert_exporter": "python",
   "pygments_lexer": "ipython3",
   "version": "3.6.7"
  }
 },
 "nbformat": 4,
 "nbformat_minor": 2
}

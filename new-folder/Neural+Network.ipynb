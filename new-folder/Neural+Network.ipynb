{
 "cells": [
  {
   "cell_type": "code",
   "execution_count": 1,
   "metadata": {
    "collapsed": true
   },
   "outputs": [],
   "source": [
    "import tensorflow as tf"
   ]
  },
  {
   "cell_type": "code",
   "execution_count": 2,
   "metadata": {
    "collapsed": true
   },
   "outputs": [],
   "source": [
    "import cv2\n",
    "import os\n",
    "from random import shuffle"
   ]
  },
  {
   "cell_type": "code",
   "execution_count": 3,
   "metadata": {
    "collapsed": true
   },
   "outputs": [],
   "source": [
    "from tqdm import tqdm"
   ]
  },
  {
   "cell_type": "code",
   "execution_count": 28,
   "metadata": {
    "collapsed": true
   },
   "outputs": [],
   "source": [
    "mnist=tf.keras.datasets.mnist  #handwritten digits"
   ]
  },
  {
   "cell_type": "code",
   "execution_count": 29,
   "metadata": {},
   "outputs": [],
   "source": [
    "(xtrain,ytrain),(xtest,ytest)=mnist.load_data()"
   ]
  },
  {
   "cell_type": "code",
   "execution_count": 30,
   "metadata": {},
   "outputs": [
    {
     "data": {
      "text/plain": [
       "(28, 28)"
      ]
     },
     "execution_count": 30,
     "metadata": {},
     "output_type": "execute_result"
    }
   ],
   "source": [
    "#normalize data as it is very big leading to big computations\n",
    "x_train=tf.keras.utils.normalize(xtrain)\n",
    "x_test=tf.keras.utils.normalize(xtest)\n",
    "x_test[0].shape"
   ]
  },
  {
   "cell_type": "code",
   "execution_count": 31,
   "metadata": {},
   "outputs": [
    {
     "data": {
      "text/plain": [
       "array([[0.        , 0.        , 0.        , 0.        , 0.        ,\n",
       "        0.        , 0.        , 0.        , 0.        , 0.        ,\n",
       "        0.        , 0.        , 0.        , 0.        , 0.        ,\n",
       "        0.        , 0.        , 0.        , 0.        , 0.        ,\n",
       "        0.        , 0.        , 0.        , 0.        , 0.        ,\n",
       "        0.        , 0.        , 0.        ],\n",
       "       [0.        , 0.        , 0.        , 0.        , 0.        ,\n",
       "        0.        , 0.        , 0.        , 0.        , 0.        ,\n",
       "        0.        , 0.        , 0.        , 0.        , 0.        ,\n",
       "        0.        , 0.        , 0.        , 0.        , 0.        ,\n",
       "        0.        , 0.        , 0.        , 0.        , 0.        ,\n",
       "        0.        , 0.        , 0.        ],\n",
       "       [0.        , 0.        , 0.        , 0.        , 0.        ,\n",
       "        0.        , 0.        , 0.        , 0.        , 0.        ,\n",
       "        0.        , 0.        , 0.        , 0.        , 0.        ,\n",
       "        0.        , 0.        , 0.        , 0.        , 0.        ,\n",
       "        0.        , 0.        , 0.        , 0.        , 0.        ,\n",
       "        0.        , 0.        , 0.        ],\n",
       "       [0.        , 0.        , 0.        , 0.        , 0.        ,\n",
       "        0.        , 0.        , 0.        , 0.        , 0.        ,\n",
       "        0.        , 0.        , 0.        , 0.        , 0.        ,\n",
       "        0.        , 0.        , 0.        , 0.        , 0.        ,\n",
       "        0.        , 0.        , 0.        , 0.        , 0.        ,\n",
       "        0.        , 0.        , 0.        ],\n",
       "       [0.        , 0.        , 0.        , 0.        , 0.        ,\n",
       "        0.        , 0.        , 0.        , 0.        , 0.        ,\n",
       "        0.        , 0.        , 0.        , 0.        , 0.        ,\n",
       "        0.        , 0.        , 0.        , 0.        , 0.        ,\n",
       "        0.        , 0.        , 0.        , 0.        , 0.        ,\n",
       "        0.        , 0.        , 0.        ],\n",
       "       [0.        , 0.        , 0.        , 0.        , 0.        ,\n",
       "        0.        , 0.        , 0.        , 0.        , 0.        ,\n",
       "        0.        , 0.        , 0.00617053, 0.03702317, 0.03702317,\n",
       "        0.03702317, 0.25916217, 0.2797306 , 0.35994746, 0.05347791,\n",
       "        0.34143588, 0.52449487, 0.50804013, 0.26121901, 0.        ,\n",
       "        0.        , 0.        , 0.        ],\n",
       "       [0.        , 0.        , 0.        , 0.        , 0.        ,\n",
       "        0.        , 0.        , 0.        , 0.03783863, 0.04540636,\n",
       "        0.11856105, 0.19423832, 0.21441893, 0.31910581, 0.31910581,\n",
       "        0.31910581, 0.31910581, 0.31910581, 0.28378975, 0.2169415 ,\n",
       "        0.31910581, 0.30523165, 0.24595112, 0.08072242, 0.        ,\n",
       "        0.        , 0.        , 0.        ],\n",
       "       [0.        , 0.        , 0.        , 0.        , 0.        ,\n",
       "        0.        , 0.        , 0.06027503, 0.29276441, 0.31121595,\n",
       "        0.31121595, 0.31121595, 0.31121595, 0.31121595, 0.31121595,\n",
       "        0.31121595, 0.31121595, 0.30875574, 0.11439954, 0.10086841,\n",
       "        0.10086841, 0.06888574, 0.047974  , 0.        , 0.        ,\n",
       "        0.        , 0.        , 0.        ],\n",
       "       [0.        , 0.        , 0.        , 0.        , 0.        ,\n",
       "        0.        , 0.        , 0.02405893, 0.29271693, 0.33816157,\n",
       "        0.33816157, 0.33816157, 0.33816157, 0.33816157, 0.26464818,\n",
       "        0.24326247, 0.33014192, 0.32212228, 0.        , 0.        ,\n",
       "        0.        , 0.        , 0.        , 0.        , 0.        ,\n",
       "        0.        , 0.        , 0.        ],\n",
       "       [0.        , 0.        , 0.        , 0.        , 0.        ,\n",
       "        0.        , 0.        , 0.        , 0.16401365, 0.31982661,\n",
       "        0.21936825, 0.51869316, 0.51869316, 0.42028497, 0.02255188,\n",
       "        0.        , 0.08815734, 0.31572627, 0.        , 0.        ,\n",
       "        0.        , 0.        , 0.        , 0.        , 0.        ,\n",
       "        0.        , 0.        , 0.        ],\n",
       "       [0.        , 0.        , 0.        , 0.        , 0.        ,\n",
       "        0.        , 0.        , 0.        , 0.        , 0.04517963,\n",
       "        0.00322712, 0.49697592, 0.81646044, 0.29044047, 0.        ,\n",
       "        0.        , 0.        , 0.        , 0.        , 0.        ,\n",
       "        0.        , 0.        , 0.        , 0.        , 0.        ,\n",
       "        0.        , 0.        , 0.        ],\n",
       "       [0.        , 0.        , 0.        , 0.        , 0.        ,\n",
       "        0.        , 0.        , 0.        , 0.        , 0.        ,\n",
       "        0.        , 0.4022081 , 0.73207661, 0.54978085, 0.00578717,\n",
       "        0.        , 0.        , 0.        , 0.        , 0.        ,\n",
       "        0.        , 0.        , 0.        , 0.        , 0.        ,\n",
       "        0.        , 0.        , 0.        ],\n",
       "       [0.        , 0.        , 0.        , 0.        , 0.        ,\n",
       "        0.        , 0.        , 0.        , 0.        , 0.        ,\n",
       "        0.        , 0.03392574, 0.58599009, 0.78029206, 0.21589108,\n",
       "        0.        , 0.        , 0.        , 0.        , 0.        ,\n",
       "        0.        , 0.        , 0.        , 0.        , 0.        ,\n",
       "        0.        , 0.        , 0.        ],\n",
       "       [0.        , 0.        , 0.        , 0.        , 0.        ,\n",
       "        0.        , 0.        , 0.        , 0.        , 0.        ,\n",
       "        0.        , 0.        , 0.0912263 , 0.62815821, 0.58645476,\n",
       "        0.41703449, 0.28149828, 0.00260647, 0.        , 0.        ,\n",
       "        0.        , 0.        , 0.        , 0.        , 0.        ,\n",
       "        0.        , 0.        , 0.        ],\n",
       "       [0.        , 0.        , 0.        , 0.        , 0.        ,\n",
       "        0.        , 0.        , 0.        , 0.        , 0.        ,\n",
       "        0.        , 0.        , 0.        , 0.17804778, 0.52754898,\n",
       "        0.55612455, 0.55612455, 0.26157637, 0.05495302, 0.        ,\n",
       "        0.        , 0.        , 0.        , 0.        , 0.        ,\n",
       "        0.        , 0.        , 0.        ],\n",
       "       [0.        , 0.        , 0.        , 0.        , 0.        ,\n",
       "        0.        , 0.        , 0.        , 0.        , 0.        ,\n",
       "        0.        , 0.        , 0.        , 0.        , 0.10382122,\n",
       "        0.42912769, 0.58370594, 0.58370594, 0.34607072, 0.06229273,\n",
       "        0.        , 0.        , 0.        , 0.        , 0.        ,\n",
       "        0.        , 0.        , 0.        ],\n",
       "       [0.        , 0.        , 0.        , 0.        , 0.        ,\n",
       "        0.        , 0.        , 0.        , 0.        , 0.        ,\n",
       "        0.        , 0.        , 0.        , 0.        , 0.        ,\n",
       "        0.03864836, 0.22464358, 0.60871163, 0.61112716, 0.45170268,\n",
       "        0.        , 0.        , 0.        , 0.        , 0.        ,\n",
       "        0.        , 0.        , 0.        ],\n",
       "       [0.        , 0.        , 0.        , 0.        , 0.        ,\n",
       "        0.        , 0.        , 0.        , 0.        , 0.        ,\n",
       "        0.        , 0.        , 0.        , 0.        , 0.        ,\n",
       "        0.        , 0.        , 0.56810388, 0.57723004, 0.56810388,\n",
       "        0.14601867, 0.        , 0.        , 0.        , 0.        ,\n",
       "        0.        , 0.        , 0.        ],\n",
       "       [0.        , 0.        , 0.        , 0.        , 0.        ,\n",
       "        0.        , 0.        , 0.        , 0.        , 0.        ,\n",
       "        0.        , 0.        , 0.        , 0.        , 0.0973284 ,\n",
       "        0.27505852, 0.38719776, 0.53530619, 0.53530619, 0.43797779,\n",
       "        0.00423167, 0.        , 0.        , 0.        , 0.        ,\n",
       "        0.        , 0.        , 0.        ],\n",
       "       [0.        , 0.        , 0.        , 0.        , 0.        ,\n",
       "        0.        , 0.        , 0.        , 0.        , 0.        ,\n",
       "        0.        , 0.        , 0.0646848 , 0.24547053, 0.37981588,\n",
       "        0.41962191, 0.41962191, 0.41962191, 0.41464616, 0.3018624 ,\n",
       "        0.        , 0.        , 0.        , 0.        , 0.        ,\n",
       "        0.        , 0.        , 0.        ],\n",
       "       [0.        , 0.        , 0.        , 0.        , 0.        ,\n",
       "        0.        , 0.        , 0.        , 0.        , 0.        ,\n",
       "        0.03972867, 0.1887112 , 0.36583488, 0.41880645, 0.41880645,\n",
       "        0.41880645, 0.41880645, 0.33272765, 0.12911819, 0.        ,\n",
       "        0.        , 0.        , 0.        , 0.        , 0.        ,\n",
       "        0.        , 0.        , 0.        ],\n",
       "       [0.        , 0.        , 0.        , 0.        , 0.        ,\n",
       "        0.        , 0.        , 0.        , 0.03876324, 0.11123366,\n",
       "        0.35898134, 0.42639568, 0.42639568, 0.42639568, 0.42639568,\n",
       "        0.33370097, 0.13651403, 0.00337072, 0.        , 0.        ,\n",
       "        0.        , 0.        , 0.        , 0.        , 0.        ,\n",
       "        0.        , 0.        , 0.        ],\n",
       "       [0.        , 0.        , 0.        , 0.        , 0.        ,\n",
       "        0.        , 0.02927437, 0.27810651, 0.35617149, 0.41146752,\n",
       "        0.41146752, 0.41146752, 0.41146752, 0.317139  , 0.13010831,\n",
       "        0.01463718, 0.        , 0.        , 0.        , 0.        ,\n",
       "        0.        , 0.        , 0.        , 0.        , 0.        ,\n",
       "        0.        , 0.        , 0.        ],\n",
       "       [0.        , 0.        , 0.        , 0.        , 0.08516473,\n",
       "        0.26633334, 0.34994962, 0.39175776, 0.39175776, 0.39175776,\n",
       "        0.39175776, 0.37782171, 0.2059438 , 0.01703295, 0.        ,\n",
       "        0.        , 0.        , 0.        , 0.        , 0.        ,\n",
       "        0.        , 0.        , 0.        , 0.        , 0.        ,\n",
       "        0.        , 0.        , 0.        ],\n",
       "       [0.        , 0.        , 0.        , 0.        , 0.25195037,\n",
       "        0.46870179, 0.46870179, 0.46870179, 0.39274617, 0.25009779,\n",
       "        0.24454007, 0.02964122, 0.        , 0.        , 0.        ,\n",
       "        0.        , 0.        , 0.        , 0.        , 0.        ,\n",
       "        0.        , 0.        , 0.        , 0.        , 0.        ,\n",
       "        0.        , 0.        , 0.        ],\n",
       "       [0.        , 0.        , 0.        , 0.        , 0.        ,\n",
       "        0.        , 0.        , 0.        , 0.        , 0.        ,\n",
       "        0.        , 0.        , 0.        , 0.        , 0.        ,\n",
       "        0.        , 0.        , 0.        , 0.        , 0.        ,\n",
       "        0.        , 0.        , 0.        , 0.        , 0.        ,\n",
       "        0.        , 0.        , 0.        ],\n",
       "       [0.        , 0.        , 0.        , 0.        , 0.        ,\n",
       "        0.        , 0.        , 0.        , 0.        , 0.        ,\n",
       "        0.        , 0.        , 0.        , 0.        , 0.        ,\n",
       "        0.        , 0.        , 0.        , 0.        , 0.        ,\n",
       "        0.        , 0.        , 0.        , 0.        , 0.        ,\n",
       "        0.        , 0.        , 0.        ],\n",
       "       [0.        , 0.        , 0.        , 0.        , 0.        ,\n",
       "        0.        , 0.        , 0.        , 0.        , 0.        ,\n",
       "        0.        , 0.        , 0.        , 0.        , 0.        ,\n",
       "        0.        , 0.        , 0.        , 0.        , 0.        ,\n",
       "        0.        , 0.        , 0.        , 0.        , 0.        ,\n",
       "        0.        , 0.        , 0.        ]])"
      ]
     },
     "execution_count": 31,
     "metadata": {},
     "output_type": "execute_result"
    }
   ],
   "source": [
    "x_train[0]\n"
   ]
  },
  {
   "cell_type": "code",
   "execution_count": 32,
   "metadata": {
    "collapsed": true
   },
   "outputs": [],
   "source": [
    "import matplotlib.pyplot as plt"
   ]
  },
  {
   "cell_type": "code",
   "execution_count": 33,
   "metadata": {},
   "outputs": [
    {
     "data": {
      "image/png": "[encoded data removed]",
      "text/plain": [
       "<Figure size 432x288 with 1 Axes>"
      ]
     },
     "metadata": {},
     "output_type": "display_data"
    }
   ],
   "source": [
    "d=x_train[0]\n",
    "d.shape=(28,28)\n",
    "plt.imshow(d)\n",
    "plt.show()"
   ]
  },
  {
   "cell_type": "code",
   "execution_count": 34,
   "metadata": {
    "collapsed": true
   },
   "outputs": [],
   "source": [
    "# type of sequential neural network\n",
    "model=tf.keras.models.Sequential()\n",
    "\n",
    "#define input layer\n",
    "model.add(tf.keras.layers.Flatten())\n",
    "\n",
    "#define hidden layer\n",
    "model.add(tf.keras.layers.Dense(128,\n",
    "         activation='relu'))\n",
    "\n",
    "#define 2nd hidden layer\n",
    "model.add(tf.keras.layers.Dense(128,\n",
    "                               activation=tf.nn.relu))     #acitvation-manipulate the result group of 8 fxns defne node values  rel-if -ve value than 0 else same\n",
    "\n",
    "#define output layer\n",
    "model.add(tf.keras.layers.Dense(10,\n",
    "                               activation=tf.nn.softmax))"
   ]
  },
  {
   "cell_type": "markdown",
   "metadata": {},
   "source": [
    "ACTIVATION FUNCTIONS\n",
    "total-8\n",
    "\n",
    "1) Identity input and output same \n",
    "activation='relu'\n",
    "f(x)=x\n",
    "\n",
    "\n",
    "2) Binary step\n",
    "0 x<0\n",
    "1 x>=0\n",
    "\n",
    "3) Logistis or sigmoid\n",
    "f(x=1/1+e^-x)\n",
    "\n",
    "4) arctan\n",
    "f(x)=tan-x\n",
    "\n",
    "5) Relu \n",
    "\n",
    "6)Leaky relu\n",
    "\n",
    "7) Softmax\n",
    "max from values has highest probability\n",
    "\n"
   ]
  },
  {
   "cell_type": "code",
   "execution_count": 35,
   "metadata": {
    "collapsed": true
   },
   "outputs": [],
   "source": [
    "model.compile(optimizer='adam',             #reduce error library adam \n",
    "             loss='sparse_categorical_crossentropy',          #which type of error to reduce 1-output =error try to reduce\n",
    "             metrics=['accuracy'])                             #fitting data"
   ]
  },
  {
   "cell_type": "code",
   "execution_count": 37,
   "metadata": {},
   "outputs": [
    {
     "name": "stdout",
     "output_type": "stream",
     "text": [
      "Epoch 1/4\n",
      "60000/60000 [==============================] - 20s 341us/step - loss: 0.3120 - acc: 0.9047\n",
      "Epoch 2/4\n",
      "60000/60000 [==============================] - 18s 293us/step - loss: 0.1427 - acc: 0.9566\n",
      "Epoch 3/4\n",
      "60000/60000 [==============================] - 17s 283us/step - loss: 0.1030 - acc: 0.9685\n",
      "Epoch 4/4\n",
      "60000/60000 [==============================] - 17s 281us/step - loss: 0.0806 - acc: 0.9753\n"
     ]
    },
    {
     "data": {
      "text/plain": [
       "<tensorflow.python.keras.callbacks.History at 0xc01e602358>"
      ]
     },
     "execution_count": 37,
     "metadata": {},
     "output_type": "execute_result"
    }
   ],
   "source": [
    "model.fit(x_train,ytrain,epochs=4)"
   ]
  },
  {
   "cell_type": "code",
   "execution_count": 52,
   "metadata": {
    "collapsed": true
   },
   "outputs": [],
   "source": [
    "import numpy as np"
   ]
  },
  {
   "cell_type": "code",
   "execution_count": 64,
   "metadata": {},
   "outputs": [
    {
     "data": {
      "text/plain": [
       "2"
      ]
     },
     "execution_count": 64,
     "metadata": {},
     "output_type": "execute_result"
    }
   ],
   "source": [
    "ypred=model.predict(x_test)\n",
    "np.argmax(ypred[1])\n"
   ]
  },
  {
   "cell_type": "code",
   "execution_count": 118,
   "metadata": {},
   "outputs": [
    {
     "name": "stdout",
     "output_type": "stream",
     "text": [
      "[1.1001562e-07 9.9954671e-01 2.7664768e-08 5.2399349e-07 1.5730865e-04\n",
      " 2.1845767e-06 5.3483558e-07 2.8950768e-04 2.0947768e-06 1.0912247e-06]\n",
      "1\n",
      "1\n"
     ]
    },
    {
     "data": {
      "image/png": "[encoded data removed]",
      "text/plain": [
       "<Figure size 432x288 with 1 Axes>"
      ]
     },
     "metadata": {},
     "output_type": "display_data"
    }
   ],
   "source": [
    "\n",
    "ypred=model.predict(x_test)\n",
    "print(ypred[5])\n",
    "print(np.argmax(ypred[5]))\n",
    "print(ytest[5])\n",
    "d=x_test[5]\n",
    "d.shape=(28,28)\n",
    "plt.imshow(d)\n",
    "plt.show()"
   ]
  },
  {
   "cell_type": "code",
   "execution_count": 178,
   "metadata": {},
   "outputs": [
    {
     "data": {
      "text/plain": [
       "(460, 819)"
      ]
     },
     "execution_count": 178,
     "metadata": {},
     "output_type": "execute_result"
    }
   ],
   "source": [
    "paint='D:/paint2.jpg'\n",
    "img=cv2.imread(paint,0)\n",
    "img.shape"
   ]
  },
  {
   "cell_type": "code",
   "execution_count": 179,
   "metadata": {},
   "outputs": [
    {
     "data": {
      "text/plain": [
       "(28, 28)"
      ]
     },
     "execution_count": 179,
     "metadata": {},
     "output_type": "execute_result"
    }
   ],
   "source": [
    "img=cv2.resize(img,(28,28))\n",
    "img.shape"
   ]
  },
  {
   "cell_type": "code",
   "execution_count": 180,
   "metadata": {
    "collapsed": true
   },
   "outputs": [],
   "source": [
    "\n",
    "img=tf.keras.utils.normalize(img)\n",
    "img=img.reshape(1,28,28)"
   ]
  },
  {
   "cell_type": "code",
   "execution_count": 181,
   "metadata": {},
   "outputs": [
    {
     "name": "stdout",
     "output_type": "stream",
     "text": [
      "[[2.92218203e-04 1.13299601e-01 1.65361956e-01 4.88138432e-03\n",
      "  3.93968642e-01 1.09280735e-01 1.99624702e-01 3.55844619e-03\n",
      "  9.07972734e-03 6.52673945e-04]]\n",
      "4\n"
     ]
    },
    {
     "data": {
      "image/png": "[encoded data removed]",
      "text/plain": [
       "<Figure size 432x288 with 1 Axes>"
      ]
     },
     "metadata": {},
     "output_type": "display_data"
    }
   ],
   "source": [
    "ypred=model.predict(img)\n",
    "print(ypred)\n",
    "np.argmax(ypred)\n",
    "print(np.argmax(ypred))\n",
    "d=img\n",
    "d.shape=(28,28)\n",
    "plt.imshow(d)\n",
    "plt.show()"
   ]
  },
  {
   "cell_type": "code",
   "execution_count": 35,
   "metadata": {},
   "outputs": [
    {
     "ename": "ValueError",
     "evalue": "Found array with dim 3. Estimator expected <= 2.",
     "output_type": "error",
     "traceback": [
      "\u001b[1;31m---------------------------------------------------------------------------\u001b[0m",
      "\u001b[1;31mValueError\u001b[0m                                Traceback (most recent call last)",
      "\u001b[1;32m<ipython-input-35-159595676e30>\u001b[0m in \u001b[0;36m<module>\u001b[1;34m()\u001b[0m\n\u001b[0;32m      1\u001b[0m \u001b[1;32mfrom\u001b[0m \u001b[0msklearn\u001b[0m\u001b[1;33m.\u001b[0m\u001b[0mneighbors\u001b[0m \u001b[1;32mimport\u001b[0m \u001b[0mKNeighborsClassifier\u001b[0m\u001b[1;33m\u001b[0m\u001b[1;33m\u001b[0m\u001b[0m\n\u001b[0;32m      2\u001b[0m \u001b[0mknn\u001b[0m\u001b[1;33m=\u001b[0m\u001b[0mKNeighborsClassifier\u001b[0m\u001b[1;33m(\u001b[0m\u001b[0mn_neighbors\u001b[0m\u001b[1;33m=\u001b[0m\u001b[1;36m5\u001b[0m\u001b[1;33m)\u001b[0m\u001b[1;33m\u001b[0m\u001b[1;33m\u001b[0m\u001b[0m\n\u001b[1;32m----> 3\u001b[1;33m \u001b[0mknn\u001b[0m\u001b[1;33m.\u001b[0m\u001b[0mfit\u001b[0m\u001b[1;33m(\u001b[0m\u001b[0mx_train\u001b[0m\u001b[1;33m,\u001b[0m\u001b[0mytrain\u001b[0m\u001b[1;33m)\u001b[0m\u001b[1;33m\u001b[0m\u001b[1;33m\u001b[0m\u001b[0m\n\u001b[0m",
      "\u001b[1;32m~\\Anaconda3\\envs\\myenv\\lib\\site-packages\\sklearn\\neighbors\\base.py\u001b[0m in \u001b[0;36mfit\u001b[1;34m(self, X, y)\u001b[0m\n\u001b[0;32m    890\u001b[0m         \"\"\"\n\u001b[0;32m    891\u001b[0m         \u001b[1;32mif\u001b[0m \u001b[1;32mnot\u001b[0m \u001b[0misinstance\u001b[0m\u001b[1;33m(\u001b[0m\u001b[0mX\u001b[0m\u001b[1;33m,\u001b[0m \u001b[1;33m(\u001b[0m\u001b[0mKDTree\u001b[0m\u001b[1;33m,\u001b[0m \u001b[0mBallTree\u001b[0m\u001b[1;33m)\u001b[0m\u001b[1;33m)\u001b[0m\u001b[1;33m:\u001b[0m\u001b[1;33m\u001b[0m\u001b[1;33m\u001b[0m\u001b[0m\n\u001b[1;32m--> 892\u001b[1;33m             \u001b[0mX\u001b[0m\u001b[1;33m,\u001b[0m \u001b[0my\u001b[0m \u001b[1;33m=\u001b[0m \u001b[0mcheck_X_y\u001b[0m\u001b[1;33m(\u001b[0m\u001b[0mX\u001b[0m\u001b[1;33m,\u001b[0m \u001b[0my\u001b[0m\u001b[1;33m,\u001b[0m \u001b[1;34m\"csr\"\u001b[0m\u001b[1;33m,\u001b[0m \u001b[0mmulti_output\u001b[0m\u001b[1;33m=\u001b[0m\u001b[1;32mTrue\u001b[0m\u001b[1;33m)\u001b[0m\u001b[1;33m\u001b[0m\u001b[1;33m\u001b[0m\u001b[0m\n\u001b[0m\u001b[0;32m    893\u001b[0m \u001b[1;33m\u001b[0m\u001b[0m\n\u001b[0;32m    894\u001b[0m         \u001b[1;32mif\u001b[0m \u001b[0my\u001b[0m\u001b[1;33m.\u001b[0m\u001b[0mndim\u001b[0m \u001b[1;33m==\u001b[0m \u001b[1;36m1\u001b[0m \u001b[1;32mor\u001b[0m \u001b[0my\u001b[0m\u001b[1;33m.\u001b[0m\u001b[0mndim\u001b[0m \u001b[1;33m==\u001b[0m \u001b[1;36m2\u001b[0m \u001b[1;32mand\u001b[0m \u001b[0my\u001b[0m\u001b[1;33m.\u001b[0m\u001b[0mshape\u001b[0m\u001b[1;33m[\u001b[0m\u001b[1;36m1\u001b[0m\u001b[1;33m]\u001b[0m \u001b[1;33m==\u001b[0m \u001b[1;36m1\u001b[0m\u001b[1;33m:\u001b[0m\u001b[1;33m\u001b[0m\u001b[1;33m\u001b[0m\u001b[0m\n",
      "\u001b[1;32m~\\Anaconda3\\envs\\myenv\\lib\\site-packages\\sklearn\\utils\\validation.py\u001b[0m in \u001b[0;36mcheck_X_y\u001b[1;34m(X, y, accept_sparse, accept_large_sparse, dtype, order, copy, force_all_finite, ensure_2d, allow_nd, multi_output, ensure_min_samples, ensure_min_features, y_numeric, warn_on_dtype, estimator)\u001b[0m\n\u001b[0;32m    717\u001b[0m                     \u001b[0mensure_min_features\u001b[0m\u001b[1;33m=\u001b[0m\u001b[0mensure_min_features\u001b[0m\u001b[1;33m,\u001b[0m\u001b[1;33m\u001b[0m\u001b[1;33m\u001b[0m\u001b[0m\n\u001b[0;32m    718\u001b[0m                     \u001b[0mwarn_on_dtype\u001b[0m\u001b[1;33m=\u001b[0m\u001b[0mwarn_on_dtype\u001b[0m\u001b[1;33m,\u001b[0m\u001b[1;33m\u001b[0m\u001b[1;33m\u001b[0m\u001b[0m\n\u001b[1;32m--> 719\u001b[1;33m                     estimator=estimator)\n\u001b[0m\u001b[0;32m    720\u001b[0m     \u001b[1;32mif\u001b[0m \u001b[0mmulti_output\u001b[0m\u001b[1;33m:\u001b[0m\u001b[1;33m\u001b[0m\u001b[1;33m\u001b[0m\u001b[0m\n\u001b[0;32m    721\u001b[0m         y = check_array(y, 'csr', force_all_finite=True, ensure_2d=False,\n",
      "\u001b[1;32m~\\Anaconda3\\envs\\myenv\\lib\\site-packages\\sklearn\\utils\\validation.py\u001b[0m in \u001b[0;36mcheck_array\u001b[1;34m(array, accept_sparse, accept_large_sparse, dtype, order, copy, force_all_finite, ensure_2d, allow_nd, ensure_min_samples, ensure_min_features, warn_on_dtype, estimator)\u001b[0m\n\u001b[0;32m    537\u001b[0m         \u001b[1;32mif\u001b[0m \u001b[1;32mnot\u001b[0m \u001b[0mallow_nd\u001b[0m \u001b[1;32mand\u001b[0m \u001b[0marray\u001b[0m\u001b[1;33m.\u001b[0m\u001b[0mndim\u001b[0m \u001b[1;33m>=\u001b[0m \u001b[1;36m3\u001b[0m\u001b[1;33m:\u001b[0m\u001b[1;33m\u001b[0m\u001b[1;33m\u001b[0m\u001b[0m\n\u001b[0;32m    538\u001b[0m             raise ValueError(\"Found array with dim %d. %s expected <= 2.\"\n\u001b[1;32m--> 539\u001b[1;33m                              % (array.ndim, estimator_name))\n\u001b[0m\u001b[0;32m    540\u001b[0m         \u001b[1;32mif\u001b[0m \u001b[0mforce_all_finite\u001b[0m\u001b[1;33m:\u001b[0m\u001b[1;33m\u001b[0m\u001b[1;33m\u001b[0m\u001b[0m\n\u001b[0;32m    541\u001b[0m             _assert_all_finite(array,\n",
      "\u001b[1;31mValueError\u001b[0m: Found array with dim 3. Estimator expected <= 2."
     ]
    }
   ],
   "source": [
    "from sklearn.neighbors import KNeighborsClassifier\n",
    "knn=KNeighborsClassifier(n_neighbors=5)\n",
    "knn.fit(x_train,ytrain)"
   ]
  },
  {
   "cell_type": "markdown",
   "metadata": {},
   "source": [
    " 1)make a image of a digit on paint and let your model to recognize the same\n",
    "2)apply neural network over images of cats and dogs for the prediction"
   ]
  },
  {
   "cell_type": "code",
   "execution_count": 12,
   "metadata": {
    "collapsed": true
   },
   "outputs": [],
   "source": [
    "train='D:/train/train'\n",
    "predict='D:/test1/test1'\n",
    " \n",
    "def label_img(img):\n",
    "    label=img.split('.')\n",
    "    if label[0]=='cat':\n",
    "        return 0\n",
    "    elif label[0]=='dog':\n",
    "        return 1"
   ]
  },
  {
   "cell_type": "code",
   "execution_count": 13,
   "metadata": {
    "collapsed": true
   },
   "outputs": [],
   "source": [
    "train_data=[]\n",
    "def feature_data():\n",
    "    for i in tqdm(os.listdir(train)):\n",
    "        label=label_img(i)\n",
    "        path=os.path.join(train,i)\n",
    "        feature=cv2.imread(path,0)\n",
    "        feature=cv2.resize(feature,(50,50))\n",
    "        train_data.append([[feature],[label]])\n",
    "    shuffle(train_data)\n",
    "    return train_data"
   ]
  },
  {
   "cell_type": "code",
   "execution_count": 14,
   "metadata": {},
   "outputs": [
    {
     "name": "stderr",
     "output_type": "stream",
     "text": [
      "100%|████████████████████████████████████████████████████████████████████████████| 25000/25000 [08:38<00:00, 48.17it/s]\n"
     ]
    }
   ],
   "source": [
    "training=feature_data()"
   ]
  },
  {
   "cell_type": "code",
   "execution_count": 15,
   "metadata": {},
   "outputs": [
    {
     "name": "stdout",
     "output_type": "stream",
     "text": [
      "(25000, 2, 1)\n"
     ]
    },
    {
     "data": {
      "text/plain": [
       "(25000, 2500)"
      ]
     },
     "execution_count": 15,
     "metadata": {},
     "output_type": "execute_result"
    }
   ],
   "source": [
    "\n",
    "import numpy as np\n",
    "print(np.array(training).shape)\n",
    "training=np.array(training).reshape(25000,2)\n",
    "train_ar=np.zeros([25000,2501])\n",
    "#25000x2train_ar=np.zeros([25000,2501])\n",
    "for i in range(25000):\n",
    "    train_ar[i]=np.hstack((training[i][0].ravel(),training[i][1]))\n",
    "    \n",
    "train_ar\n",
    "x=train_ar[:,:-1]\n",
    "y=train_ar[:,-1:]\n",
    "x.shape"
   ]
  },
  {
   "cell_type": "code",
   "execution_count": 16,
   "metadata": {},
   "outputs": [
    {
     "data": {
      "image/png": "[encoded data removed]",
      "text/plain": [
       "<Figure size 432x288 with 1 Axes>"
      ]
     },
     "metadata": {},
     "output_type": "display_data"
    }
   ],
   "source": [
    "import matplotlib.pyplot as plt\n",
    "d=x[9]\n",
    "d.shape=(50,50)\n",
    "plt.imshow(d)\n",
    "plt.show()"
   ]
  },
  {
   "cell_type": "code",
   "execution_count": 17,
   "metadata": {
    "collapsed": true
   },
   "outputs": [],
   "source": [
    "# type of sequential neural network\n",
    "model=tf.keras.models.Sequential()\n",
    "\n",
    "#define input layer\n",
    "model.add(tf.keras.layers.Flatten())\n",
    "\n",
    "#define hidden layer\n",
    "model.add(tf.keras.layers.Dense(128,\n",
    "         activation='relu'))\n",
    "\n",
    "#define 2nd hidden layer\n",
    "model.add(tf.keras.layers.Dense(128,\n",
    "                               activation=tf.nn.relu))     #acitvation-manipulate the result group of 8 fxns defne node values  rel-if -ve value than 0 else same\n",
    "\n",
    "#define output layer\n",
    "model.add(tf.keras.layers.Dense(2,\n",
    "                               activation=tf.nn.softmax))"
   ]
  },
  {
   "cell_type": "code",
   "execution_count": 18,
   "metadata": {
    "collapsed": true
   },
   "outputs": [],
   "source": [
    "model.compile(optimizer='adam',             #reduce error library adam \n",
    "             loss='sparse_categorical_crossentropy',          #which type of error to reduce 1-output =error try to reduce\n",
    "             metrics=['accuracy'])   "
   ]
  },
  {
   "cell_type": "code",
   "execution_count": 19,
   "metadata": {},
   "outputs": [
    {
     "name": "stdout",
     "output_type": "stream",
     "text": [
      "Epoch 1/4\n"
     ]
    },
    {
     "name": "stdout",
     "output_type": "stream",
     "text": [
      "15232/25000 [=================>............] - ETA: 12:48 - loss: 6.8549 - acc: 0.56 - ETA: 4:31 - loss: 7.3219 - acc: 0.5417 - ETA: 2:52 - loss: 6.9116 - acc: 0.568 - ETA: 2:09 - loss: 7.3833 - acc: 0.540 - ETA: 1:45 - loss: 7.1977 - acc: 0.552 - ETA: 1:30 - loss: 7.4001 - acc: 0.539 - ETA: 1:20 - loss: 7.5402 - acc: 0.531 - ETA: 1:18 - loss: 7.5053 - acc: 0.533 - ETA: 1:16 - loss: 7.5422 - acc: 0.531 - ETA: 1:10 - loss: 7.4549 - acc: 0.536 - ETA: 1:05 - loss: 7.4390 - acc: 0.537 - ETA: 1:01 - loss: 7.3301 - acc: 0.544 - ETA: 58s - loss: 7.3716 - acc: 0.542 - ETA: 55s - loss: 7.5475 - acc: 0.53 - ETA: 52s - loss: 7.4921 - acc: 0.53 - ETA: 50s - loss: 7.6007 - acc: 0.52 - ETA: 48s - loss: 7.6303 - acc: 0.52 - ETA: 47s - loss: 7.5647 - acc: 0.53 - ETA: 46s - loss: 7.5785 - acc: 0.52 - ETA: 43s - loss: 7.5634 - acc: 0.53 - ETA: 42s - loss: 7.6260 - acc: 0.52 - ETA: 41s - loss: 7.6706 - acc: 0.52 - ETA: 39s - loss: 7.5958 - acc: 0.52 - ETA: 38s - loss: 7.5619 - acc: 0.53 - ETA: 37s - loss: 7.5413 - acc: 0.53 - ETA: 36s - loss: 7.5421 - acc: 0.53 - ETA: 35s - loss: 7.5243 - acc: 0.53 - ETA: 34s - loss: 7.6049 - acc: 0.52 - ETA: 33s - loss: 7.7032 - acc: 0.52 - ETA: 33s - loss: 7.7065 - acc: 0.52 - ETA: 32s - loss: 7.6841 - acc: 0.52 - ETA: 31s - loss: 7.7178 - acc: 0.52 - ETA: 31s - loss: 7.7496 - acc: 0.51 - ETA: 31s - loss: 7.7796 - acc: 0.51 - ETA: 30s - loss: 7.7637 - acc: 0.51 - ETA: 30s - loss: 7.7715 - acc: 0.51 - ETA: 29s - loss: 7.7659 - acc: 0.51 - ETA: 29s - loss: 7.7670 - acc: 0.51 - ETA: 29s - loss: 7.7987 - acc: 0.51 - ETA: 29s - loss: 7.8200 - acc: 0.51 - ETA: 29s - loss: 7.8079 - acc: 0.51 - ETA: 29s - loss: 7.7731 - acc: 0.51 - ETA: 28s - loss: 7.7625 - acc: 0.51 - ETA: 28s - loss: 7.7912 - acc: 0.51 - ETA: 28s - loss: 7.8158 - acc: 0.51 - ETA: 27s - loss: 7.8649 - acc: 0.51 - ETA: 27s - loss: 7.8506 - acc: 0.51 - ETA: 26s - loss: 7.8547 - acc: 0.51 - ETA: 26s - loss: 7.8701 - acc: 0.51 - ETA: 26s - loss: 7.8595 - acc: 0.51 - ETA: 25s - loss: 7.8420 - acc: 0.51 - ETA: 25s - loss: 7.8414 - acc: 0.51 - ETA: 25s - loss: 7.8383 - acc: 0.51 - ETA: 24s - loss: 7.8568 - acc: 0.51 - ETA: 24s - loss: 7.8433 - acc: 0.51 - ETA: 24s - loss: 7.8510 - acc: 0.51 - ETA: 24s - loss: 7.8300 - acc: 0.51 - ETA: 24s - loss: 7.8473 - acc: 0.51 - ETA: 23s - loss: 7.8251 - acc: 0.51 - ETA: 23s - loss: 7.8248 - acc: 0.51 - ETA: 23s - loss: 7.8263 - acc: 0.51 - ETA: 23s - loss: 7.8223 - acc: 0.51 - ETA: 23s - loss: 7.8221 - acc: 0.51 - ETA: 22s - loss: 7.8661 - acc: 0.51 - ETA: 22s - loss: 7.8723 - acc: 0.51 - ETA: 22s - loss: 7.8658 - acc: 0.51 - ETA: 22s - loss: 7.8650 - acc: 0.51 - ETA: 22s - loss: 7.8810 - acc: 0.51 - ETA: 22s - loss: 7.8701 - acc: 0.51 - ETA: 22s - loss: 7.8713 - acc: 0.51 - ETA: 22s - loss: 7.8899 - acc: 0.51 - ETA: 22s - loss: 7.8952 - acc: 0.51 - ETA: 22s - loss: 7.8973 - acc: 0.51 - ETA: 22s - loss: 7.9086 - acc: 0.50 - ETA: 21s - loss: 7.8797 - acc: 0.51 - ETA: 21s - loss: 7.8819 - acc: 0.51 - ETA: 21s - loss: 7.8880 - acc: 0.51 - ETA: 21s - loss: 7.9144 - acc: 0.50 - ETA: 21s - loss: 7.9255 - acc: 0.50 - ETA: 21s - loss: 7.9384 - acc: 0.50 - ETA: 20s - loss: 7.9572 - acc: 0.50 - ETA: 20s - loss: 7.9424 - acc: 0.50 - ETA: 20s - loss: 7.9382 - acc: 0.50 - ETA: 20s - loss: 7.9529 - acc: 0.50 - ETA: 20s - loss: 7.9508 - acc: 0.50 - ETA: 20s - loss: 7.9546 - acc: 0.50 - ETA: 20s - loss: 7.9583 - acc: 0.50 - ETA: 20s - loss: 7.9516 - acc: 0.50 - ETA: 20s - loss: 7.9609 - acc: 0.50 - ETA: 20s - loss: 7.9619 - acc: 0.50 - ETA: 19s - loss: 7.9628 - acc: 0.50 - ETA: 19s - loss: 7.9519 - acc: 0.50 - ETA: 19s - loss: 7.9530 - acc: 0.50 - ETA: 19s - loss: 7.9713 - acc: 0.50 - ETA: 19s - loss: 7.9722 - acc: 0.50 - ETA: 19s - loss: 7.9687 - acc: 0.50 - ETA: 19s - loss: 7.9719 - acc: 0.50 - ETA: 18s - loss: 7.9703 - acc: 0.50 - ETA: 18s - loss: 7.9849 - acc: 0.50 - ETA: 18s - loss: 7.9807 - acc: 0.50 - ETA: 18s - loss: 7.9723 - acc: 0.50 - ETA: 18s - loss: 7.9619 - acc: 0.50 - ETA: 18s - loss: 7.9698 - acc: 0.50 - ETA: 18s - loss: 7.9750 - acc: 0.50 - ETA: 18s - loss: 7.9648 - acc: 0.50 - ETA: 18s - loss: 7.9700 - acc: 0.50 - ETA: 18s - loss: 7.9562 - acc: 0.50 - ETA: 18s - loss: 7.9743 - acc: 0.50 - ETA: 18s - loss: 7.9857 - acc: 0.50 - ETA: 17s - loss: 7.9804 - acc: 0.50 - ETA: 17s - loss: 7.9872 - acc: 0.50 - ETA: 17s - loss: 7.9820 - acc: 0.50 - ETA: 17s - loss: 7.9826 - acc: 0.50 - ETA: 17s - loss: 7.9869 - acc: 0.50 - ETA: 17s - loss: 7.9815 - acc: 0.50 - ETA: 17s - loss: 7.9782 - acc: 0.50 - ETA: 17s - loss: 7.9769 - acc: 0.50 - ETA: 17s - loss: 7.9814 - acc: 0.50 - ETA: 17s - loss: 7.9880 - acc: 0.50 - ETA: 17s - loss: 7.9979 - acc: 0.50 - ETA: 17s - loss: 8.0078 - acc: 0.50 - ETA: 16s - loss: 7.9991 - acc: 0.50 - ETA: 16s - loss: 8.0052 - acc: 0.50 - ETA: 16s - loss: 8.0074 - acc: 0.50 - ETA: 16s - loss: 8.0078 - acc: 0.50 - ETA: 16s - loss: 8.0064 - acc: 0.50 - ETA: 16s - loss: 8.0016 - acc: 0.50 - ETA: 16s - loss: 7.9965 - acc: 0.50 - ETA: 16s - loss: 7.9932 - acc: 0.50 - ETA: 16s - loss: 7.9969 - acc: 0.50 - ETA: 16s - loss: 8.0024 - acc: 0.50 - ETA: 16s - loss: 7.9941 - acc: 0.50 - ETA: 16s - loss: 7.9980 - acc: 0.50 - ETA: 16s - loss: 8.0018 - acc: 0.50 - ETA: 16s - loss: 7.9973 - acc: 0.50 - ETA: 15s - loss: 7.9876 - acc: 0.50 - ETA: 15s - loss: 7.9814 - acc: 0.50 - ETA: 15s - loss: 7.9921 - acc: 0.50 - ETA: 15s - loss: 7.9991 - acc: 0.50 - ETA: 15s - loss: 8.0128 - acc: 0.50 - ETA: 15s - loss: 8.0100 - acc: 0.50 - ETA: 15s - loss: 7.9959 - acc: 0.50 - ETA: 15s - loss: 7.9931 - acc: 0.50 - ETA: 15s - loss: 7.9965 - acc: 0.50 - ETA: 15s - loss: 7.9969 - acc: 0.50 - ETA: 15s - loss: 8.0098 - acc: 0.50 - ETA: 15s - loss: 8.0148 - acc: 0.50 - ETA: 15s - loss: 8.0214 - acc: 0.50 - ETA: 14s - loss: 8.0232 - acc: 0.50 - ETA: 14s - loss: 8.0295 - acc: 0.50 - ETA: 14s - loss: 8.0297 - acc: 0.50 - ETA: 14s - loss: 8.0435 - acc: 0.50 - ETA: 14s - loss: 8.0495 - acc: 0.50 - ETA: 14s - loss: 8.0348 - acc: 0.50 - ETA: 14s - loss: 8.0336 - acc: 0.50 - ETA: 14s - loss: 8.0338 - acc: 0.50 - ETA: 14s - loss: 8.0325 - acc: 0.50 - ETA: 14s - loss: 8.0298 - acc: 0.50 - ETA: 14s - loss: 8.0285 - acc: 0.50 - ETA: 13s - loss: 8.0386 - acc: 0.50 - ETA: 13s - loss: 8.0430 - acc: 0.50 - ETA: 13s - loss: 8.0432 - acc: 0.50 - ETA: 13s - loss: 8.0363 - acc: 0.50 - ETA: 13s - loss: 8.0447 - acc: 0.50 - ETA: 13s - loss: 8.0435 - acc: 0.50 - ETA: 13s - loss: 8.0422 - acc: 0.50 - ETA: 13s - loss: 8.0531 - acc: 0.50 - ETA: 13s - loss: 8.0639 - acc: 0.49 - ETA: 13s - loss: 8.0559 - acc: 0.50 - ETA: 12s - loss: 8.0678 - acc: 0.49 - ETA: 12s - loss: 8.0572 - acc: 0.50 - ETA: 12s - loss: 8.0533 - acc: 0.50 - ETA: 12s - loss: 8.0598 - acc: 0.49 - ETA: 12s - loss: 8.0650 - acc: 0.49 - ETA: 12s - loss: 8.0521 - acc: 0.50 - ETA: 12s - loss: 8.0598 - acc: 0.49 - ETA: 12s - loss: 8.0522 - acc: 0.50 - ETA: 12s - loss: 8.0586 - acc: 0.50 - ETA: 12s - loss: 8.0598 - acc: 0.49 - ETA: 12s - loss: 8.0623 - acc: 0.49 - ETA: 12s - loss: 8.0710 - acc: 0.49 - ETA: 12s - loss: 8.0685 - acc: 0.49 - ETA: 12s - loss: 8.0759 - acc: 0.49 - ETA: 12s - loss: 8.0770 - acc: 0.49 - ETA: 11s - loss: 8.0806 - acc: 0.49 - ETA: 11s - loss: 8.0769 - acc: 0.49 - ETA: 11s - loss: 8.0793 - acc: 0.49 - ETA: 11s - loss: 8.0780 - acc: 0.49 - ETA: 11s - loss: 8.0755 - acc: 0.49 - ETA: 11s - loss: 8.0730 - acc: 0.49 - ETA: 11s - loss: 8.0645 - acc: 0.49 - ETA: 11s - loss: 8.0586 - acc: 0.50 - ETA: 11s - loss: 8.0468 - acc: 0.50 - ETA: 11s - loss: 8.0433 - acc: 0.50 - ETA: 11s - loss: 8.0492 - acc: 0.50 - ETA: 11s - loss: 8.0458 - acc: 0.50 - ETA: 11s - loss: 8.0517 - acc: 0.50 - ETA: 11s - loss: 8.0540 - acc: 0.50 - ETA: 10s - loss: 8.0540 - acc: 0.50 - ETA: 10s - loss: 8.0552 - acc: 0.50 - ETA: 10s - loss: 8.0563 - acc: 0.50 - ETA: 10s - loss: 8.0575 - acc: 0.50 - ETA: 10s - loss: 8.0631 - acc: 0.49 - ETA: 10s - loss: 8.0597 - acc: 0.49 - ETA: 10s - loss: 8.0642 - acc: 0.49 - ETA: 10s - loss: 8.0652 - acc: 0.49 - ETA: 10s - loss: 8.0685 - acc: 0.49 - ETA: 10s - loss: 8.0749 - acc: 0.49 - ETA: 10s - loss: 8.0727 - acc: 0.49 - ETA: 10s - loss: 8.0694 - acc: 0.49 - ETA: 10s - loss: 8.0726 - acc: 0.49 - ETA: 9s - loss: 8.0821 - acc: 0.4985 - ETA: 9s - loss: 8.0778 - acc: 0.498 - ETA: 9s - loss: 8.0756 - acc: 0.4989\b\b\b\b\b\b\b\b\b\b\b\b\b\b\b\b\b\b\b\b\b\b\b\b\b\b\b\b\b\b\b\b\b\b\b\b\b\b\b\b\b\b\b\b\b\b\b\b\b\b\b\b\b\b\b\b\b\b\b\b\b\b\b\b\b\b\b\b\b\b\b\b\b\b\b\b\b\b\b\b\b\b\b"
     ]
    },
    {
     "name": "stdout",
     "output_type": "stream",
     "text": [
      "25000/25000 [==============================] - ETA: 9s - loss: 8.0797 - acc: 0.498 - ETA: 9s - loss: 8.0849 - acc: 0.498 - ETA: 9s - loss: 8.0879 - acc: 0.498 - ETA: 9s - loss: 8.0888 - acc: 0.498 - ETA: 9s - loss: 8.0908 - acc: 0.498 - ETA: 9s - loss: 8.1029 - acc: 0.497 - ETA: 9s - loss: 8.0986 - acc: 0.497 - ETA: 9s - loss: 8.0882 - acc: 0.498 - ETA: 9s - loss: 8.0921 - acc: 0.497 - ETA: 9s - loss: 8.0899 - acc: 0.498 - ETA: 8s - loss: 8.0928 - acc: 0.497 - ETA: 8s - loss: 8.0896 - acc: 0.498 - ETA: 8s - loss: 8.0895 - acc: 0.498 - ETA: 8s - loss: 8.0883 - acc: 0.498 - ETA: 8s - loss: 8.0843 - acc: 0.498 - ETA: 8s - loss: 8.0842 - acc: 0.498 - ETA: 8s - loss: 8.0851 - acc: 0.498 - ETA: 8s - loss: 8.0801 - acc: 0.498 - ETA: 8s - loss: 8.0790 - acc: 0.498 - ETA: 8s - loss: 8.0750 - acc: 0.499 - ETA: 8s - loss: 8.0750 - acc: 0.499 - ETA: 8s - loss: 8.0778 - acc: 0.498 - ETA: 7s - loss: 8.0795 - acc: 0.498 - ETA: 7s - loss: 8.0823 - acc: 0.498 - ETA: 7s - loss: 8.0784 - acc: 0.498 - ETA: 7s - loss: 8.0783 - acc: 0.498 - ETA: 7s - loss: 8.0782 - acc: 0.498 - ETA: 7s - loss: 8.0818 - acc: 0.498 - ETA: 7s - loss: 8.0836 - acc: 0.498 - ETA: 7s - loss: 8.0881 - acc: 0.498 - ETA: 7s - loss: 8.0907 - acc: 0.498 - ETA: 7s - loss: 8.0933 - acc: 0.497 - ETA: 7s - loss: 8.0958 - acc: 0.497 - ETA: 7s - loss: 8.0948 - acc: 0.497 - ETA: 7s - loss: 8.0965 - acc: 0.497 - ETA: 6s - loss: 8.0963 - acc: 0.497 - ETA: 6s - loss: 8.0979 - acc: 0.497 - ETA: 6s - loss: 8.1022 - acc: 0.497 - ETA: 6s - loss: 8.1046 - acc: 0.497 - ETA: 6s - loss: 8.1105 - acc: 0.496 - ETA: 6s - loss: 8.1147 - acc: 0.496 - ETA: 6s - loss: 8.1171 - acc: 0.496 - ETA: 6s - loss: 8.1168 - acc: 0.496 - ETA: 6s - loss: 8.1105 - acc: 0.496 - ETA: 6s - loss: 8.1095 - acc: 0.496 - ETA: 6s - loss: 8.1119 - acc: 0.496 - ETA: 6s - loss: 8.1159 - acc: 0.496 - ETA: 5s - loss: 8.1166 - acc: 0.496 - ETA: 5s - loss: 8.1188 - acc: 0.496 - ETA: 5s - loss: 8.1160 - acc: 0.496 - ETA: 5s - loss: 8.1174 - acc: 0.496 - ETA: 5s - loss: 8.1155 - acc: 0.496 - ETA: 5s - loss: 8.1144 - acc: 0.496 - ETA: 5s - loss: 8.1166 - acc: 0.496 - ETA: 5s - loss: 8.1131 - acc: 0.496 - ETA: 5s - loss: 8.1178 - acc: 0.496 - ETA: 5s - loss: 8.1127 - acc: 0.496 - ETA: 5s - loss: 8.1076 - acc: 0.497 - ETA: 5s - loss: 8.1042 - acc: 0.497 - ETA: 4s - loss: 8.1042 - acc: 0.497 - ETA: 4s - loss: 8.1040 - acc: 0.497 - ETA: 4s - loss: 8.1039 - acc: 0.497 - ETA: 4s - loss: 8.1036 - acc: 0.497 - ETA: 4s - loss: 8.1011 - acc: 0.497 - ETA: 4s - loss: 8.1050 - acc: 0.497 - ETA: 4s - loss: 8.1079 - acc: 0.496 - ETA: 4s - loss: 8.1085 - acc: 0.496 - ETA: 4s - loss: 8.1067 - acc: 0.497 - ETA: 4s - loss: 8.1050 - acc: 0.497 - ETA: 4s - loss: 8.1008 - acc: 0.497 - ETA: 4s - loss: 8.1015 - acc: 0.497 - ETA: 4s - loss: 8.1028 - acc: 0.497 - ETA: 3s - loss: 8.0965 - acc: 0.497 - ETA: 3s - loss: 8.1002 - acc: 0.497 - ETA: 3s - loss: 8.0993 - acc: 0.497 - ETA: 3s - loss: 8.0969 - acc: 0.497 - ETA: 3s - loss: 8.0976 - acc: 0.497 - ETA: 3s - loss: 8.1019 - acc: 0.497 - ETA: 3s - loss: 8.1040 - acc: 0.497 - ETA: 3s - loss: 8.1046 - acc: 0.497 - ETA: 3s - loss: 8.1052 - acc: 0.497 - ETA: 3s - loss: 8.1020 - acc: 0.497 - ETA: 3s - loss: 8.0952 - acc: 0.497 - ETA: 3s - loss: 8.0944 - acc: 0.497 - ETA: 3s - loss: 8.0898 - acc: 0.498 - ETA: 2s - loss: 8.0853 - acc: 0.498 - ETA: 2s - loss: 8.0815 - acc: 0.498 - ETA: 2s - loss: 8.0836 - acc: 0.498 - ETA: 2s - loss: 8.0835 - acc: 0.498 - ETA: 2s - loss: 8.0798 - acc: 0.498 - ETA: 2s - loss: 8.0812 - acc: 0.498 - ETA: 2s - loss: 8.0833 - acc: 0.498 - ETA: 2s - loss: 8.0876 - acc: 0.498 - ETA: 2s - loss: 8.0897 - acc: 0.498 - ETA: 2s - loss: 8.0853 - acc: 0.498 - ETA: 2s - loss: 8.0830 - acc: 0.498 - ETA: 2s - loss: 8.0837 - acc: 0.498 - ETA: 2s - loss: 8.0857 - acc: 0.498 - ETA: 2s - loss: 8.0835 - acc: 0.498 - ETA: 1s - loss: 8.0848 - acc: 0.498 - ETA: 1s - loss: 8.0861 - acc: 0.498 - ETA: 1s - loss: 8.0811 - acc: 0.498 - ETA: 1s - loss: 8.0775 - acc: 0.498 - ETA: 1s - loss: 8.0775 - acc: 0.498 - ETA: 1s - loss: 8.0802 - acc: 0.498 - ETA: 1s - loss: 8.0829 - acc: 0.498 - ETA: 1s - loss: 8.0814 - acc: 0.498 - ETA: 1s - loss: 8.0759 - acc: 0.498 - ETA: 1s - loss: 8.0758 - acc: 0.498 - ETA: 1s - loss: 8.0764 - acc: 0.498 - ETA: 1s - loss: 8.0804 - acc: 0.498 - ETA: 1s - loss: 8.0736 - acc: 0.499 - ETA: 0s - loss: 8.0709 - acc: 0.499 - ETA: 0s - loss: 8.0729 - acc: 0.499 - ETA: 0s - loss: 8.0681 - acc: 0.499 - ETA: 0s - loss: 8.0694 - acc: 0.499 - ETA: 0s - loss: 8.0701 - acc: 0.499 - ETA: 0s - loss: 8.0681 - acc: 0.499 - ETA: 0s - loss: 8.0667 - acc: 0.499 - ETA: 0s - loss: 8.0713 - acc: 0.499 - ETA: 0s - loss: 8.0699 - acc: 0.499 - ETA: 0s - loss: 8.0653 - acc: 0.499 - ETA: 0s - loss: 8.0647 - acc: 0.499 - ETA: 0s - loss: 8.0646 - acc: 0.499 - ETA: 0s - loss: 8.0594 - acc: 0.500 - ETA: 0s - loss: 8.0556 - acc: 0.500 - 24s 949us/step - loss: 8.0569 - acc: 0.5001\n",
      "Epoch 2/4\n"
     ]
    },
    {
     "name": "stdout",
     "output_type": "stream",
     "text": [
      "15264/25000 [=================>............] - ETA: 12s - loss: 8.5627 - acc: 0.46 - ETA: 20s - loss: 8.2269 - acc: 0.48 - ETA: 20s - loss: 8.8985 - acc: 0.44 - ETA: 18s - loss: 8.8426 - acc: 0.45 - ETA: 19s - loss: 9.2038 - acc: 0.42 - ETA: 20s - loss: 8.9502 - acc: 0.44 - ETA: 20s - loss: 8.9720 - acc: 0.44 - ETA: 19s - loss: 8.9339 - acc: 0.44 - ETA: 19s - loss: 9.0664 - acc: 0.43 - ETA: 20s - loss: 8.9131 - acc: 0.44 - ETA: 19s - loss: 8.8727 - acc: 0.44 - ETA: 19s - loss: 8.7191 - acc: 0.45 - ETA: 19s - loss: 8.6115 - acc: 0.46 - ETA: 19s - loss: 8.5776 - acc: 0.46 - ETA: 19s - loss: 8.6036 - acc: 0.46 - ETA: 19s - loss: 8.6509 - acc: 0.46 - ETA: 19s - loss: 8.6587 - acc: 0.46 - ETA: 19s - loss: 8.6075 - acc: 0.46 - ETA: 18s - loss: 8.5942 - acc: 0.46 - ETA: 18s - loss: 8.4922 - acc: 0.47 - ETA: 18s - loss: 8.4392 - acc: 0.47 - ETA: 18s - loss: 8.4458 - acc: 0.47 - ETA: 18s - loss: 8.4759 - acc: 0.47 - ETA: 18s - loss: 8.4116 - acc: 0.47 - ETA: 18s - loss: 8.3596 - acc: 0.48 - ETA: 18s - loss: 8.3345 - acc: 0.48 - ETA: 18s - loss: 8.3185 - acc: 0.48 - ETA: 18s - loss: 8.2780 - acc: 0.48 - ETA: 18s - loss: 8.2759 - acc: 0.48 - ETA: 18s - loss: 8.2837 - acc: 0.48 - ETA: 18s - loss: 8.2512 - acc: 0.48 - ETA: 18s - loss: 8.2399 - acc: 0.48 - ETA: 18s - loss: 8.2456 - acc: 0.48 - ETA: 18s - loss: 8.2168 - acc: 0.49 - ETA: 18s - loss: 8.2427 - acc: 0.48 - ETA: 18s - loss: 8.2537 - acc: 0.48 - ETA: 18s - loss: 8.2549 - acc: 0.48 - ETA: 18s - loss: 8.2649 - acc: 0.48 - ETA: 18s - loss: 8.2532 - acc: 0.48 - ETA: 18s - loss: 8.2441 - acc: 0.48 - ETA: 18s - loss: 8.2353 - acc: 0.48 - ETA: 17s - loss: 8.2791 - acc: 0.48 - ETA: 17s - loss: 8.2893 - acc: 0.48 - ETA: 17s - loss: 8.2782 - acc: 0.48 - ETA: 17s - loss: 8.2859 - acc: 0.48 - ETA: 17s - loss: 8.2819 - acc: 0.48 - ETA: 17s - loss: 8.2935 - acc: 0.48 - ETA: 17s - loss: 8.2810 - acc: 0.48 - ETA: 17s - loss: 8.2630 - acc: 0.48 - ETA: 17s - loss: 8.2638 - acc: 0.48 - ETA: 17s - loss: 8.2509 - acc: 0.48 - ETA: 17s - loss: 8.2152 - acc: 0.49 - ETA: 17s - loss: 8.2308 - acc: 0.48 - ETA: 17s - loss: 8.2056 - acc: 0.49 - ETA: 16s - loss: 8.2109 - acc: 0.49 - ETA: 16s - loss: 8.2087 - acc: 0.49 - ETA: 16s - loss: 8.2174 - acc: 0.49 - ETA: 16s - loss: 8.2151 - acc: 0.49 - ETA: 17s - loss: 8.2140 - acc: 0.49 - ETA: 17s - loss: 8.1876 - acc: 0.49 - ETA: 17s - loss: 8.1961 - acc: 0.49 - ETA: 17s - loss: 8.1875 - acc: 0.49 - ETA: 17s - loss: 8.1725 - acc: 0.49 - ETA: 17s - loss: 8.1809 - acc: 0.49 - ETA: 17s - loss: 8.1695 - acc: 0.49 - ETA: 17s - loss: 8.1753 - acc: 0.49 - ETA: 17s - loss: 8.1802 - acc: 0.49 - ETA: 17s - loss: 8.1818 - acc: 0.49 - ETA: 17s - loss: 8.1834 - acc: 0.49 - ETA: 17s - loss: 8.1543 - acc: 0.49 - ETA: 17s - loss: 8.1470 - acc: 0.49 - ETA: 17s - loss: 8.1430 - acc: 0.49 - ETA: 17s - loss: 8.1302 - acc: 0.49 - ETA: 17s - loss: 8.1000 - acc: 0.49 - ETA: 17s - loss: 8.1025 - acc: 0.49 - ETA: 17s - loss: 8.1220 - acc: 0.49 - ETA: 17s - loss: 8.1383 - acc: 0.49 - ETA: 17s - loss: 8.1262 - acc: 0.49 - ETA: 17s - loss: 8.1116 - acc: 0.49 - ETA: 17s - loss: 8.1247 - acc: 0.49 - ETA: 17s - loss: 8.1322 - acc: 0.49 - ETA: 17s - loss: 8.1421 - acc: 0.49 - ETA: 17s - loss: 8.1359 - acc: 0.49 - ETA: 17s - loss: 8.1382 - acc: 0.49 - ETA: 17s - loss: 8.1243 - acc: 0.49 - ETA: 16s - loss: 8.1107 - acc: 0.49 - ETA: 16s - loss: 8.1150 - acc: 0.49 - ETA: 16s - loss: 8.1195 - acc: 0.49 - ETA: 16s - loss: 8.1239 - acc: 0.49 - ETA: 16s - loss: 8.1405 - acc: 0.49 - ETA: 16s - loss: 8.1373 - acc: 0.49 - ETA: 16s - loss: 8.1438 - acc: 0.49 - ETA: 16s - loss: 8.1478 - acc: 0.49 - ETA: 16s - loss: 8.1470 - acc: 0.49 - ETA: 16s - loss: 8.1414 - acc: 0.49 - ETA: 16s - loss: 8.1290 - acc: 0.49 - ETA: 16s - loss: 8.1214 - acc: 0.49 - ETA: 16s - loss: 8.1140 - acc: 0.49 - ETA: 16s - loss: 8.1022 - acc: 0.49 - ETA: 16s - loss: 8.1153 - acc: 0.49 - ETA: 16s - loss: 8.1259 - acc: 0.49 - ETA: 16s - loss: 8.1099 - acc: 0.49 - ETA: 16s - loss: 8.1007 - acc: 0.49 - ETA: 15s - loss: 8.1068 - acc: 0.49 - ETA: 15s - loss: 8.1086 - acc: 0.49 - ETA: 15s - loss: 8.1167 - acc: 0.49 - ETA: 15s - loss: 8.1120 - acc: 0.49 - ETA: 15s - loss: 8.1094 - acc: 0.49 - ETA: 15s - loss: 8.0986 - acc: 0.49 - ETA: 15s - loss: 8.0921 - acc: 0.49 - ETA: 15s - loss: 8.1082 - acc: 0.49 - ETA: 15s - loss: 8.1200 - acc: 0.49 - ETA: 15s - loss: 8.1155 - acc: 0.49 - ETA: 15s - loss: 8.1090 - acc: 0.49 - ETA: 15s - loss: 8.0987 - acc: 0.49 - ETA: 15s - loss: 8.1004 - acc: 0.49 - ETA: 15s - loss: 8.0942 - acc: 0.49 - ETA: 15s - loss: 8.0997 - acc: 0.49 - ETA: 15s - loss: 8.0937 - acc: 0.49 - ETA: 15s - loss: 8.0839 - acc: 0.49 - ETA: 15s - loss: 8.0837 - acc: 0.49 - ETA: 14s - loss: 8.0835 - acc: 0.49 - ETA: 14s - loss: 8.0945 - acc: 0.49 - ETA: 14s - loss: 8.1016 - acc: 0.49 - ETA: 14s - loss: 8.0811 - acc: 0.49 - ETA: 14s - loss: 8.0882 - acc: 0.49 - ETA: 14s - loss: 8.0826 - acc: 0.49 - ETA: 14s - loss: 8.0752 - acc: 0.49 - ETA: 14s - loss: 8.0733 - acc: 0.49 - ETA: 14s - loss: 8.0732 - acc: 0.49 - ETA: 14s - loss: 8.0678 - acc: 0.49 - ETA: 14s - loss: 8.0782 - acc: 0.49 - ETA: 14s - loss: 8.0763 - acc: 0.49 - ETA: 14s - loss: 8.0830 - acc: 0.49 - ETA: 14s - loss: 8.0862 - acc: 0.49 - ETA: 13s - loss: 8.0893 - acc: 0.49 - ETA: 13s - loss: 8.0924 - acc: 0.49 - ETA: 13s - loss: 8.0889 - acc: 0.49 - ETA: 13s - loss: 8.0935 - acc: 0.49 - ETA: 13s - loss: 8.0915 - acc: 0.49 - ETA: 13s - loss: 8.1026 - acc: 0.49 - ETA: 13s - loss: 8.0974 - acc: 0.49 - ETA: 13s - loss: 8.1051 - acc: 0.49 - ETA: 13s - loss: 8.1000 - acc: 0.49 - ETA: 13s - loss: 8.1074 - acc: 0.49 - ETA: 13s - loss: 8.1100 - acc: 0.49 - ETA: 13s - loss: 8.0973 - acc: 0.49 - ETA: 12s - loss: 8.0971 - acc: 0.49 - ETA: 12s - loss: 8.0908 - acc: 0.49 - ETA: 12s - loss: 8.0861 - acc: 0.49 - ETA: 12s - loss: 8.0740 - acc: 0.49 - ETA: 12s - loss: 8.0828 - acc: 0.49 - ETA: 12s - loss: 8.0811 - acc: 0.49 - ETA: 12s - loss: 8.0896 - acc: 0.49 - ETA: 12s - loss: 8.0951 - acc: 0.49 - ETA: 12s - loss: 8.0877 - acc: 0.49 - ETA: 12s - loss: 8.0975 - acc: 0.49 - ETA: 12s - loss: 8.1000 - acc: 0.49 - ETA: 12s - loss: 8.1011 - acc: 0.49 - ETA: 12s - loss: 8.1065 - acc: 0.49 - ETA: 11s - loss: 8.1118 - acc: 0.49 - ETA: 11s - loss: 8.1170 - acc: 0.49 - ETA: 11s - loss: 8.1085 - acc: 0.49 - ETA: 11s - loss: 8.1082 - acc: 0.49 - ETA: 11s - loss: 8.1093 - acc: 0.49 - ETA: 11s - loss: 8.1090 - acc: 0.49 - ETA: 11s - loss: 8.1114 - acc: 0.49 - ETA: 11s - loss: 8.1137 - acc: 0.49 - ETA: 11s - loss: 8.1134 - acc: 0.49 - ETA: 11s - loss: 8.1131 - acc: 0.49 - ETA: 11s - loss: 8.1168 - acc: 0.49 - ETA: 11s - loss: 8.1202 - acc: 0.49 - ETA: 11s - loss: 8.1199 - acc: 0.49 - ETA: 11s - loss: 8.1196 - acc: 0.49 - ETA: 11s - loss: 8.1102 - acc: 0.49 - ETA: 10s - loss: 8.1047 - acc: 0.49 - ETA: 10s - loss: 8.1020 - acc: 0.49 - ETA: 10s - loss: 8.1005 - acc: 0.49 - ETA: 10s - loss: 8.1015 - acc: 0.49 - ETA: 10s - loss: 8.0976 - acc: 0.49 - ETA: 10s - loss: 8.1011 - acc: 0.49 - ETA: 10s - loss: 8.1083 - acc: 0.49 - ETA: 10s - loss: 8.1130 - acc: 0.49 - ETA: 10s - loss: 8.1065 - acc: 0.49 - ETA: 10s - loss: 8.1075 - acc: 0.49 - ETA: 10s - loss: 8.1121 - acc: 0.49 - ETA: 10s - loss: 8.1033 - acc: 0.49 - ETA: 10s - loss: 8.1055 - acc: 0.49 - ETA: 10s - loss: 8.1124 - acc: 0.49 - ETA: 10s - loss: 8.1133 - acc: 0.49 - ETA: 10s - loss: 8.1013 - acc: 0.49 - ETA: 10s - loss: 8.1011 - acc: 0.49 - ETA: 10s - loss: 8.1021 - acc: 0.49 - ETA: 9s - loss: 8.1042 - acc: 0.4972 - ETA: 9s - loss: 8.1063 - acc: 0.497 - ETA: 9s - loss: 8.1061 - acc: 0.497 - ETA: 9s - loss: 8.1013 - acc: 0.497 - ETA: 9s - loss: 8.0966 - acc: 0.497 - ETA: 9s - loss: 8.0987 - acc: 0.497 - ETA: 9s - loss: 8.1007 - acc: 0.497 - ETA: 9s - loss: 8.1017 - acc: 0.497 - ETA: 9s - loss: 8.0993 - acc: 0.497 - ETA: 9s - loss: 8.1002 - acc: 0.497 - ETA: 9s - loss: 8.0945 - acc: 0.497 - ETA: 9s - loss: 8.0954 - acc: 0.497 - ETA: 9s - loss: 8.0975 - acc: 0.497 - ETA: 9s - loss: 8.1006 - acc: 0.497 - ETA: 9s - loss: 8.1080 - acc: 0.497 - ETA: 9s - loss: 8.1035 - acc: 0.497 - ETA: 9s - loss: 8.0990 - acc: 0.497 - ETA: 9s - loss: 8.0988 - acc: 0.497 - ETA: 8s - loss: 8.0965 - acc: 0.497 - ETA: 8s - loss: 8.0963 - acc: 0.497 - ETA: 8s - loss: 8.0940 - acc: 0.497 - ETA: 8s - loss: 8.0854 - acc: 0.4984"
     ]
    },
    {
     "name": "stdout",
     "output_type": "stream",
     "text": [
      "25000/25000 [==============================] - ETA: 8s - loss: 8.0864 - acc: 0.498 - ETA: 8s - loss: 8.0863 - acc: 0.498 - ETA: 8s - loss: 8.0872 - acc: 0.498 - ETA: 8s - loss: 8.0944 - acc: 0.497 - ETA: 8s - loss: 8.0911 - acc: 0.498 - ETA: 8s - loss: 8.0941 - acc: 0.497 - ETA: 8s - loss: 8.0939 - acc: 0.497 - ETA: 8s - loss: 8.0969 - acc: 0.497 - ETA: 8s - loss: 8.0998 - acc: 0.497 - ETA: 8s - loss: 8.0986 - acc: 0.497 - ETA: 8s - loss: 8.0965 - acc: 0.497 - ETA: 8s - loss: 8.0933 - acc: 0.497 - ETA: 8s - loss: 8.0922 - acc: 0.497 - ETA: 8s - loss: 8.0840 - acc: 0.498 - ETA: 8s - loss: 8.0839 - acc: 0.498 - ETA: 8s - loss: 8.0799 - acc: 0.498 - ETA: 7s - loss: 8.0798 - acc: 0.498 - ETA: 7s - loss: 8.0768 - acc: 0.498 - ETA: 7s - loss: 8.0728 - acc: 0.499 - ETA: 7s - loss: 8.0795 - acc: 0.498 - ETA: 7s - loss: 8.0795 - acc: 0.498 - ETA: 7s - loss: 8.0785 - acc: 0.498 - ETA: 7s - loss: 8.0784 - acc: 0.498 - ETA: 7s - loss: 8.0716 - acc: 0.499 - ETA: 7s - loss: 8.0677 - acc: 0.499 - ETA: 7s - loss: 8.0657 - acc: 0.499 - ETA: 7s - loss: 8.0628 - acc: 0.499 - ETA: 7s - loss: 8.0647 - acc: 0.499 - ETA: 7s - loss: 8.0723 - acc: 0.499 - ETA: 7s - loss: 8.0675 - acc: 0.499 - ETA: 7s - loss: 8.0581 - acc: 0.500 - ETA: 7s - loss: 8.0581 - acc: 0.500 - ETA: 6s - loss: 8.0526 - acc: 0.500 - ETA: 6s - loss: 8.0563 - acc: 0.500 - ETA: 6s - loss: 8.0526 - acc: 0.500 - ETA: 6s - loss: 8.0545 - acc: 0.500 - ETA: 6s - loss: 8.0554 - acc: 0.500 - ETA: 6s - loss: 8.0509 - acc: 0.500 - ETA: 6s - loss: 8.0491 - acc: 0.500 - ETA: 6s - loss: 8.0501 - acc: 0.500 - ETA: 6s - loss: 8.0492 - acc: 0.500 - ETA: 6s - loss: 8.0492 - acc: 0.500 - ETA: 6s - loss: 8.0466 - acc: 0.500 - ETA: 6s - loss: 8.0537 - acc: 0.500 - ETA: 6s - loss: 8.0564 - acc: 0.500 - ETA: 6s - loss: 8.0538 - acc: 0.500 - ETA: 6s - loss: 8.0520 - acc: 0.500 - ETA: 6s - loss: 8.0529 - acc: 0.500 - ETA: 5s - loss: 8.0530 - acc: 0.500 - ETA: 5s - loss: 8.0616 - acc: 0.499 - ETA: 5s - loss: 8.0573 - acc: 0.500 - ETA: 5s - loss: 8.0488 - acc: 0.500 - ETA: 5s - loss: 8.0488 - acc: 0.500 - ETA: 5s - loss: 8.0471 - acc: 0.500 - ETA: 5s - loss: 8.0480 - acc: 0.500 - ETA: 5s - loss: 8.0498 - acc: 0.500 - ETA: 5s - loss: 8.0515 - acc: 0.500 - ETA: 5s - loss: 8.0523 - acc: 0.500 - ETA: 5s - loss: 8.0499 - acc: 0.500 - ETA: 5s - loss: 8.0491 - acc: 0.500 - ETA: 5s - loss: 8.0541 - acc: 0.500 - ETA: 5s - loss: 8.0574 - acc: 0.500 - ETA: 4s - loss: 8.0599 - acc: 0.499 - ETA: 4s - loss: 8.0615 - acc: 0.499 - ETA: 4s - loss: 8.0680 - acc: 0.499 - ETA: 4s - loss: 8.0696 - acc: 0.499 - ETA: 4s - loss: 8.0671 - acc: 0.499 - ETA: 4s - loss: 8.0655 - acc: 0.499 - ETA: 4s - loss: 8.0655 - acc: 0.499 - ETA: 4s - loss: 8.0694 - acc: 0.499 - ETA: 4s - loss: 8.0718 - acc: 0.499 - ETA: 4s - loss: 8.0670 - acc: 0.499 - ETA: 4s - loss: 8.0733 - acc: 0.499 - ETA: 4s - loss: 8.0733 - acc: 0.499 - ETA: 4s - loss: 8.0700 - acc: 0.499 - ETA: 4s - loss: 8.0778 - acc: 0.498 - ETA: 3s - loss: 8.0739 - acc: 0.499 - ETA: 3s - loss: 8.0691 - acc: 0.499 - ETA: 3s - loss: 8.0722 - acc: 0.499 - ETA: 3s - loss: 8.0737 - acc: 0.499 - ETA: 3s - loss: 8.0744 - acc: 0.499 - ETA: 3s - loss: 8.0705 - acc: 0.499 - ETA: 3s - loss: 8.0659 - acc: 0.499 - ETA: 3s - loss: 8.0606 - acc: 0.499 - ETA: 3s - loss: 8.0590 - acc: 0.500 - ETA: 3s - loss: 8.0606 - acc: 0.499 - ETA: 3s - loss: 8.0613 - acc: 0.499 - ETA: 3s - loss: 8.0575 - acc: 0.500 - ETA: 3s - loss: 8.0605 - acc: 0.499 - ETA: 3s - loss: 8.0613 - acc: 0.499 - ETA: 3s - loss: 8.0620 - acc: 0.499 - ETA: 2s - loss: 8.0642 - acc: 0.499 - ETA: 2s - loss: 8.0635 - acc: 0.499 - ETA: 2s - loss: 8.0583 - acc: 0.500 - ETA: 2s - loss: 8.0583 - acc: 0.500 - ETA: 2s - loss: 8.0612 - acc: 0.499 - ETA: 2s - loss: 8.0583 - acc: 0.500 - ETA: 2s - loss: 8.0598 - acc: 0.500 - ETA: 2s - loss: 8.0555 - acc: 0.500 - ETA: 2s - loss: 8.0569 - acc: 0.500 - ETA: 2s - loss: 8.0583 - acc: 0.500 - ETA: 2s - loss: 8.0562 - acc: 0.500 - ETA: 2s - loss: 8.0583 - acc: 0.500 - ETA: 2s - loss: 8.0590 - acc: 0.500 - ETA: 2s - loss: 8.0612 - acc: 0.499 - ETA: 1s - loss: 8.0605 - acc: 0.499 - ETA: 1s - loss: 8.0605 - acc: 0.499 - ETA: 1s - loss: 8.0640 - acc: 0.499 - ETA: 1s - loss: 8.0604 - acc: 0.499 - ETA: 1s - loss: 8.0584 - acc: 0.500 - ETA: 1s - loss: 8.0577 - acc: 0.500 - ETA: 1s - loss: 8.0563 - acc: 0.500 - ETA: 1s - loss: 8.0549 - acc: 0.500 - ETA: 1s - loss: 8.0515 - acc: 0.500 - ETA: 1s - loss: 8.0549 - acc: 0.500 - ETA: 1s - loss: 8.0509 - acc: 0.500 - ETA: 1s - loss: 8.0488 - acc: 0.500 - ETA: 1s - loss: 8.0461 - acc: 0.500 - ETA: 1s - loss: 8.0509 - acc: 0.500 - ETA: 1s - loss: 8.0523 - acc: 0.500 - ETA: 1s - loss: 8.0489 - acc: 0.500 - ETA: 0s - loss: 8.0469 - acc: 0.500 - ETA: 0s - loss: 8.0463 - acc: 0.500 - ETA: 0s - loss: 8.0457 - acc: 0.500 - ETA: 0s - loss: 8.0464 - acc: 0.500 - ETA: 0s - loss: 8.0484 - acc: 0.500 - ETA: 0s - loss: 8.0458 - acc: 0.500 - ETA: 0s - loss: 8.0485 - acc: 0.500 - ETA: 0s - loss: 8.0518 - acc: 0.500 - ETA: 0s - loss: 8.0499 - acc: 0.500 - ETA: 0s - loss: 8.0519 - acc: 0.500 - ETA: 0s - loss: 8.0538 - acc: 0.500 - ETA: 0s - loss: 8.0539 - acc: 0.500 - ETA: 0s - loss: 8.0558 - acc: 0.500 - ETA: 0s - loss: 8.0578 - acc: 0.500 - 23s 915us/step - loss: 8.0590 - acc: 0.5000\n",
      "Epoch 3/4\n"
     ]
    },
    {
     "name": "stdout",
     "output_type": "stream",
     "text": [
      "17536/25000 [====================>.........] - ETA: 24s - loss: 9.5701 - acc: 0.40 - ETA: 18s - loss: 10.5775 - acc: 0.343 - ETA: 20s - loss: 9.8220 - acc: 0.390 - ETA: 18s - loss: 9.1224 - acc: 0.43 - ETA: 19s - loss: 9.2496 - acc: 0.42 - ETA: 19s - loss: 9.1384 - acc: 0.43 - ETA: 18s - loss: 9.0072 - acc: 0.44 - ETA: 19s - loss: 8.7483 - acc: 0.45 - ETA: 19s - loss: 8.7066 - acc: 0.45 - ETA: 19s - loss: 8.6047 - acc: 0.46 - ETA: 19s - loss: 8.4465 - acc: 0.47 - ETA: 19s - loss: 8.2389 - acc: 0.48 - ETA: 19s - loss: 8.1262 - acc: 0.49 - ETA: 20s - loss: 8.1377 - acc: 0.49 - ETA: 20s - loss: 8.1924 - acc: 0.49 - ETA: 20s - loss: 8.2409 - acc: 0.48 - ETA: 20s - loss: 8.0590 - acc: 0.50 - ETA: 19s - loss: 8.0111 - acc: 0.50 - ETA: 19s - loss: 8.0590 - acc: 0.50 - ETA: 19s - loss: 8.0483 - acc: 0.50 - ETA: 19s - loss: 7.9180 - acc: 0.50 - ETA: 19s - loss: 7.9331 - acc: 0.50 - ETA: 19s - loss: 7.9844 - acc: 0.50 - ETA: 19s - loss: 7.9884 - acc: 0.50 - ETA: 19s - loss: 8.0171 - acc: 0.50 - ETA: 19s - loss: 8.0271 - acc: 0.50 - ETA: 19s - loss: 8.0819 - acc: 0.49 - ETA: 19s - loss: 8.0663 - acc: 0.49 - ETA: 18s - loss: 8.0730 - acc: 0.49 - ETA: 18s - loss: 8.0863 - acc: 0.49 - ETA: 18s - loss: 8.1572 - acc: 0.49 - ETA: 18s - loss: 8.1220 - acc: 0.49 - ETA: 18s - loss: 8.1319 - acc: 0.49 - ETA: 18s - loss: 8.1703 - acc: 0.49 - ETA: 18s - loss: 8.1506 - acc: 0.49 - ETA: 18s - loss: 8.1421 - acc: 0.49 - ETA: 18s - loss: 8.1448 - acc: 0.49 - ETA: 18s - loss: 8.1692 - acc: 0.49 - ETA: 18s - loss: 8.1812 - acc: 0.49 - ETA: 18s - loss: 8.1479 - acc: 0.49 - ETA: 18s - loss: 8.1317 - acc: 0.49 - ETA: 18s - loss: 8.0828 - acc: 0.49 - ETA: 17s - loss: 8.0775 - acc: 0.49 - ETA: 17s - loss: 8.0590 - acc: 0.50 - ETA: 17s - loss: 8.0722 - acc: 0.49 - ETA: 17s - loss: 8.0505 - acc: 0.50 - ETA: 17s - loss: 8.0382 - acc: 0.50 - ETA: 17s - loss: 8.0266 - acc: 0.50 - ETA: 17s - loss: 8.0231 - acc: 0.50 - ETA: 17s - loss: 8.0005 - acc: 0.50 - ETA: 17s - loss: 8.0168 - acc: 0.50 - ETA: 17s - loss: 8.0365 - acc: 0.50 - ETA: 17s - loss: 8.0405 - acc: 0.50 - ETA: 17s - loss: 8.0409 - acc: 0.50 - ETA: 17s - loss: 8.0162 - acc: 0.50 - ETA: 16s - loss: 8.0346 - acc: 0.50 - ETA: 16s - loss: 8.0282 - acc: 0.50 - ETA: 16s - loss: 8.0423 - acc: 0.50 - ETA: 16s - loss: 8.0557 - acc: 0.50 - ETA: 16s - loss: 8.0492 - acc: 0.50 - ETA: 16s - loss: 8.0590 - acc: 0.50 - ETA: 16s - loss: 8.0369 - acc: 0.50 - ETA: 16s - loss: 8.0311 - acc: 0.50 - ETA: 16s - loss: 8.0072 - acc: 0.50 - ETA: 16s - loss: 8.0321 - acc: 0.50 - ETA: 16s - loss: 8.0296 - acc: 0.50 - ETA: 16s - loss: 8.0241 - acc: 0.50 - ETA: 16s - loss: 8.0133 - acc: 0.50 - ETA: 15s - loss: 7.9855 - acc: 0.50 - ETA: 15s - loss: 7.9783 - acc: 0.50 - ETA: 15s - loss: 7.9714 - acc: 0.50 - ETA: 15s - loss: 7.9778 - acc: 0.50 - ETA: 15s - loss: 7.9738 - acc: 0.50 - ETA: 15s - loss: 7.9777 - acc: 0.50 - ETA: 15s - loss: 7.9656 - acc: 0.50 - ETA: 15s - loss: 7.9875 - acc: 0.50 - ETA: 15s - loss: 7.9785 - acc: 0.50 - ETA: 15s - loss: 7.9718 - acc: 0.50 - ETA: 15s - loss: 7.9731 - acc: 0.50 - ETA: 15s - loss: 7.9666 - acc: 0.50 - ETA: 15s - loss: 7.9727 - acc: 0.50 - ETA: 15s - loss: 7.9830 - acc: 0.50 - ETA: 14s - loss: 7.9747 - acc: 0.50 - ETA: 14s - loss: 7.9620 - acc: 0.50 - ETA: 14s - loss: 7.9519 - acc: 0.50 - ETA: 14s - loss: 7.9574 - acc: 0.50 - ETA: 14s - loss: 7.9650 - acc: 0.50 - ETA: 14s - loss: 7.9618 - acc: 0.50 - ETA: 14s - loss: 7.9539 - acc: 0.50 - ETA: 14s - loss: 7.9574 - acc: 0.50 - ETA: 14s - loss: 7.9545 - acc: 0.50 - ETA: 14s - loss: 7.9617 - acc: 0.50 - ETA: 14s - loss: 7.9629 - acc: 0.50 - ETA: 14s - loss: 7.9682 - acc: 0.50 - ETA: 14s - loss: 7.9690 - acc: 0.50 - ETA: 13s - loss: 7.9761 - acc: 0.50 - ETA: 13s - loss: 7.9888 - acc: 0.50 - ETA: 13s - loss: 7.9817 - acc: 0.50 - ETA: 13s - loss: 7.9748 - acc: 0.50 - ETA: 13s - loss: 7.9796 - acc: 0.50 - ETA: 13s - loss: 7.9786 - acc: 0.50 - ETA: 13s - loss: 7.9811 - acc: 0.50 - ETA: 13s - loss: 7.9632 - acc: 0.50 - ETA: 13s - loss: 7.9661 - acc: 0.50 - ETA: 13s - loss: 7.9690 - acc: 0.50 - ETA: 13s - loss: 7.9609 - acc: 0.50 - ETA: 13s - loss: 7.9583 - acc: 0.50 - ETA: 13s - loss: 7.9751 - acc: 0.50 - ETA: 13s - loss: 7.9721 - acc: 0.50 - ETA: 12s - loss: 7.9959 - acc: 0.50 - ETA: 12s - loss: 7.9911 - acc: 0.50 - ETA: 12s - loss: 7.9918 - acc: 0.50 - ETA: 12s - loss: 7.9890 - acc: 0.50 - ETA: 12s - loss: 7.9827 - acc: 0.50 - ETA: 12s - loss: 7.9816 - acc: 0.50 - ETA: 12s - loss: 7.9757 - acc: 0.50 - ETA: 12s - loss: 7.9779 - acc: 0.50 - ETA: 12s - loss: 7.9754 - acc: 0.50 - ETA: 12s - loss: 7.9697 - acc: 0.50 - ETA: 12s - loss: 7.9719 - acc: 0.50 - ETA: 12s - loss: 7.9791 - acc: 0.50 - ETA: 12s - loss: 7.9846 - acc: 0.50 - ETA: 12s - loss: 7.9756 - acc: 0.50 - ETA: 12s - loss: 7.9733 - acc: 0.50 - ETA: 11s - loss: 7.9710 - acc: 0.50 - ETA: 11s - loss: 7.9700 - acc: 0.50 - ETA: 11s - loss: 7.9814 - acc: 0.50 - ETA: 11s - loss: 7.9897 - acc: 0.50 - ETA: 11s - loss: 7.9931 - acc: 0.50 - ETA: 11s - loss: 7.9952 - acc: 0.50 - ETA: 11s - loss: 7.9970 - acc: 0.50 - ETA: 11s - loss: 7.9944 - acc: 0.50 - ETA: 11s - loss: 8.0023 - acc: 0.50 - ETA: 11s - loss: 7.9968 - acc: 0.50 - ETA: 11s - loss: 8.0045 - acc: 0.50 - ETA: 11s - loss: 8.0063 - acc: 0.50 - ETA: 11s - loss: 8.0067 - acc: 0.50 - ETA: 11s - loss: 8.0140 - acc: 0.50 - ETA: 10s - loss: 8.0172 - acc: 0.50 - ETA: 10s - loss: 8.0160 - acc: 0.50 - ETA: 10s - loss: 8.0191 - acc: 0.50 - ETA: 10s - loss: 8.0303 - acc: 0.50 - ETA: 10s - loss: 8.0278 - acc: 0.50 - ETA: 10s - loss: 8.0348 - acc: 0.50 - ETA: 10s - loss: 8.0269 - acc: 0.50 - ETA: 10s - loss: 8.0165 - acc: 0.50 - ETA: 10s - loss: 8.0115 - acc: 0.50 - ETA: 10s - loss: 8.0053 - acc: 0.50 - ETA: 10s - loss: 8.0057 - acc: 0.50 - ETA: 10s - loss: 8.0124 - acc: 0.50 - ETA: 10s - loss: 8.0102 - acc: 0.50 - ETA: 10s - loss: 8.0182 - acc: 0.50 - ETA: 10s - loss: 8.0223 - acc: 0.50 - ETA: 9s - loss: 8.0225 - acc: 0.5023 - ETA: 9s - loss: 8.0265 - acc: 0.502 - ETA: 9s - loss: 8.0280 - acc: 0.501 - ETA: 9s - loss: 8.0343 - acc: 0.501 - ETA: 9s - loss: 8.0332 - acc: 0.501 - ETA: 9s - loss: 8.0345 - acc: 0.501 - ETA: 9s - loss: 8.0371 - acc: 0.501 - ETA: 9s - loss: 8.0421 - acc: 0.501 - ETA: 9s - loss: 8.0410 - acc: 0.501 - ETA: 9s - loss: 8.0471 - acc: 0.500 - ETA: 9s - loss: 8.0447 - acc: 0.500 - ETA: 9s - loss: 8.0436 - acc: 0.501 - ETA: 9s - loss: 8.0508 - acc: 0.500 - ETA: 9s - loss: 8.0438 - acc: 0.500 - ETA: 9s - loss: 8.0415 - acc: 0.501 - ETA: 9s - loss: 8.0440 - acc: 0.500 - ETA: 9s - loss: 8.0417 - acc: 0.501 - ETA: 8s - loss: 8.0418 - acc: 0.501 - ETA: 8s - loss: 8.0420 - acc: 0.501 - ETA: 8s - loss: 8.0386 - acc: 0.501 - ETA: 8s - loss: 8.0410 - acc: 0.501 - ETA: 8s - loss: 8.0378 - acc: 0.501 - ETA: 8s - loss: 8.0423 - acc: 0.501 - ETA: 8s - loss: 8.0391 - acc: 0.501 - ETA: 8s - loss: 8.0403 - acc: 0.501 - ETA: 8s - loss: 8.0415 - acc: 0.501 - ETA: 8s - loss: 8.0329 - acc: 0.501 - ETA: 8s - loss: 8.0266 - acc: 0.502 - ETA: 8s - loss: 8.0245 - acc: 0.502 - ETA: 8s - loss: 8.0279 - acc: 0.501 - ETA: 8s - loss: 8.0334 - acc: 0.501 - ETA: 8s - loss: 8.0356 - acc: 0.501 - ETA: 8s - loss: 8.0474 - acc: 0.500 - ETA: 7s - loss: 8.0548 - acc: 0.500 - ETA: 7s - loss: 8.0549 - acc: 0.500 - ETA: 7s - loss: 8.0497 - acc: 0.500 - ETA: 7s - loss: 8.0590 - acc: 0.500 - ETA: 7s - loss: 8.0590 - acc: 0.500 - ETA: 7s - loss: 8.0611 - acc: 0.499 - ETA: 7s - loss: 8.0672 - acc: 0.499 - ETA: 7s - loss: 8.0733 - acc: 0.499 - ETA: 7s - loss: 8.0783 - acc: 0.498 - ETA: 7s - loss: 8.0822 - acc: 0.498 - ETA: 7s - loss: 8.0811 - acc: 0.498 - ETA: 7s - loss: 8.0849 - acc: 0.498 - ETA: 7s - loss: 8.0878 - acc: 0.498 - ETA: 7s - loss: 8.0945 - acc: 0.497 - ETA: 7s - loss: 8.0943 - acc: 0.497 - ETA: 6s - loss: 8.0931 - acc: 0.497 - ETA: 6s - loss: 8.0959 - acc: 0.497 - ETA: 6s - loss: 8.0899 - acc: 0.498 - ETA: 6s - loss: 8.0965 - acc: 0.497 - ETA: 6s - loss: 8.0915 - acc: 0.498 - ETA: 6s - loss: 8.0923 - acc: 0.497 - ETA: 6s - loss: 8.0988 - acc: 0.497 - ETA: 6s - loss: 8.0939 - acc: 0.497 - ETA: 6s - loss: 8.0956 - acc: 0.497 - ETA: 6s - loss: 8.0946 - acc: 0.497 - ETA: 6s - loss: 8.0925 - acc: 0.497 - ETA: 6s - loss: 8.0915 - acc: 0.498 - ETA: 6s - loss: 8.0867 - acc: 0.498 - ETA: 6s - loss: 8.0885 - acc: 0.4982"
     ]
    },
    {
     "name": "stdout",
     "output_type": "stream",
     "text": [
      "25000/25000 [==============================] - ETA: 6s - loss: 8.0874 - acc: 0.498 - ETA: 6s - loss: 8.0873 - acc: 0.498 - ETA: 5s - loss: 8.0853 - acc: 0.498 - ETA: 5s - loss: 8.0807 - acc: 0.498 - ETA: 5s - loss: 8.0770 - acc: 0.498 - ETA: 5s - loss: 8.0743 - acc: 0.499 - ETA: 5s - loss: 8.0822 - acc: 0.498 - ETA: 5s - loss: 8.0838 - acc: 0.498 - ETA: 5s - loss: 8.0837 - acc: 0.498 - ETA: 5s - loss: 8.0845 - acc: 0.498 - ETA: 5s - loss: 8.0809 - acc: 0.498 - ETA: 5s - loss: 8.0755 - acc: 0.499 - ETA: 5s - loss: 8.0755 - acc: 0.499 - ETA: 5s - loss: 8.0780 - acc: 0.498 - ETA: 5s - loss: 8.0719 - acc: 0.499 - ETA: 4s - loss: 8.0642 - acc: 0.499 - ETA: 4s - loss: 8.0590 - acc: 0.500 - ETA: 4s - loss: 8.0548 - acc: 0.500 - ETA: 4s - loss: 8.0582 - acc: 0.500 - ETA: 4s - loss: 8.0582 - acc: 0.500 - ETA: 4s - loss: 8.0590 - acc: 0.500 - ETA: 4s - loss: 8.0524 - acc: 0.500 - ETA: 4s - loss: 8.0524 - acc: 0.500 - ETA: 4s - loss: 8.0574 - acc: 0.500 - ETA: 4s - loss: 8.0483 - acc: 0.500 - ETA: 4s - loss: 8.0451 - acc: 0.500 - ETA: 4s - loss: 8.0435 - acc: 0.501 - ETA: 4s - loss: 8.0436 - acc: 0.501 - ETA: 4s - loss: 8.0420 - acc: 0.501 - ETA: 4s - loss: 8.0437 - acc: 0.501 - ETA: 4s - loss: 8.0430 - acc: 0.501 - ETA: 4s - loss: 8.0486 - acc: 0.500 - ETA: 3s - loss: 8.0519 - acc: 0.500 - ETA: 3s - loss: 8.0535 - acc: 0.500 - ETA: 3s - loss: 8.0535 - acc: 0.500 - ETA: 3s - loss: 8.0496 - acc: 0.500 - ETA: 3s - loss: 8.0434 - acc: 0.501 - ETA: 3s - loss: 8.0442 - acc: 0.500 - ETA: 3s - loss: 8.0427 - acc: 0.501 - ETA: 3s - loss: 8.0482 - acc: 0.500 - ETA: 3s - loss: 8.0498 - acc: 0.500 - ETA: 3s - loss: 8.0537 - acc: 0.500 - ETA: 3s - loss: 8.0498 - acc: 0.500 - ETA: 3s - loss: 8.0476 - acc: 0.500 - ETA: 3s - loss: 8.0484 - acc: 0.500 - ETA: 3s - loss: 8.0484 - acc: 0.500 - ETA: 3s - loss: 8.0462 - acc: 0.500 - ETA: 2s - loss: 8.0455 - acc: 0.500 - ETA: 2s - loss: 8.0433 - acc: 0.501 - ETA: 2s - loss: 8.0448 - acc: 0.500 - ETA: 2s - loss: 8.0449 - acc: 0.500 - ETA: 2s - loss: 8.0427 - acc: 0.501 - ETA: 2s - loss: 8.0457 - acc: 0.500 - ETA: 2s - loss: 8.0495 - acc: 0.500 - ETA: 2s - loss: 8.0517 - acc: 0.500 - ETA: 2s - loss: 8.0503 - acc: 0.500 - ETA: 2s - loss: 8.0445 - acc: 0.500 - ETA: 2s - loss: 8.0424 - acc: 0.501 - ETA: 2s - loss: 8.0439 - acc: 0.500 - ETA: 2s - loss: 8.0433 - acc: 0.501 - ETA: 2s - loss: 8.0433 - acc: 0.501 - ETA: 1s - loss: 8.0427 - acc: 0.501 - ETA: 1s - loss: 8.0399 - acc: 0.501 - ETA: 1s - loss: 8.0364 - acc: 0.501 - ETA: 1s - loss: 8.0336 - acc: 0.501 - ETA: 1s - loss: 8.0351 - acc: 0.501 - ETA: 1s - loss: 8.0366 - acc: 0.501 - ETA: 1s - loss: 8.0388 - acc: 0.501 - ETA: 1s - loss: 8.0375 - acc: 0.501 - ETA: 1s - loss: 8.0403 - acc: 0.501 - ETA: 1s - loss: 8.0390 - acc: 0.501 - ETA: 1s - loss: 8.0405 - acc: 0.501 - ETA: 1s - loss: 8.0391 - acc: 0.501 - ETA: 1s - loss: 8.0406 - acc: 0.501 - ETA: 1s - loss: 8.0372 - acc: 0.501 - ETA: 1s - loss: 8.0379 - acc: 0.501 - ETA: 1s - loss: 8.0379 - acc: 0.501 - ETA: 1s - loss: 8.0380 - acc: 0.501 - ETA: 1s - loss: 8.0400 - acc: 0.501 - ETA: 1s - loss: 8.0394 - acc: 0.501 - ETA: 0s - loss: 8.0408 - acc: 0.501 - ETA: 0s - loss: 8.0381 - acc: 0.501 - ETA: 0s - loss: 8.0388 - acc: 0.501 - ETA: 0s - loss: 8.0382 - acc: 0.501 - ETA: 0s - loss: 8.0389 - acc: 0.501 - ETA: 0s - loss: 8.0362 - acc: 0.501 - ETA: 0s - loss: 8.0389 - acc: 0.501 - ETA: 0s - loss: 8.0396 - acc: 0.501 - ETA: 0s - loss: 8.0390 - acc: 0.501 - ETA: 0s - loss: 8.0371 - acc: 0.501 - ETA: 0s - loss: 8.0444 - acc: 0.500 - ETA: 0s - loss: 8.0471 - acc: 0.500 - ETA: 0s - loss: 8.0439 - acc: 0.500 - ETA: 0s - loss: 8.0479 - acc: 0.500 - ETA: 0s - loss: 8.0505 - acc: 0.500 - ETA: 0s - loss: 8.0538 - acc: 0.500 - ETA: 0s - loss: 8.0525 - acc: 0.500 - ETA: 0s - loss: 8.0571 - acc: 0.500 - ETA: 0s - loss: 8.0584 - acc: 0.500 - ETA: 0s - loss: 8.0597 - acc: 0.500 - ETA: 0s - loss: 8.0578 - acc: 0.500 - 21s 849us/step - loss: 8.0590 - acc: 0.5000\n",
      "Epoch 4/4\n"
     ]
    },
    {
     "name": "stdout",
     "output_type": "stream",
     "text": [
      " 8608/25000 [=========>....................] - ETA: 12s - loss: 7.0517 - acc: 0.56 - ETA: 18s - loss: 7.4294 - acc: 0.53 - ETA: 17s - loss: 7.3395 - acc: 0.54 - ETA: 18s - loss: 7.3315 - acc: 0.54 - ETA: 19s - loss: 7.7233 - acc: 0.52 - ETA: 19s - loss: 7.7904 - acc: 0.51 - ETA: 19s - loss: 7.6673 - acc: 0.52 - ETA: 18s - loss: 7.7712 - acc: 0.51 - ETA: 19s - loss: 7.7525 - acc: 0.51 - ETA: 19s - loss: 7.7685 - acc: 0.51 - ETA: 19s - loss: 7.6769 - acc: 0.52 - ETA: 19s - loss: 7.7915 - acc: 0.51 - ETA: 19s - loss: 7.8516 - acc: 0.51 - ETA: 19s - loss: 7.8004 - acc: 0.51 - ETA: 19s - loss: 7.8137 - acc: 0.51 - ETA: 19s - loss: 7.8072 - acc: 0.51 - ETA: 19s - loss: 7.8464 - acc: 0.51 - ETA: 19s - loss: 7.8983 - acc: 0.51 - ETA: 19s - loss: 7.8912 - acc: 0.51 - ETA: 20s - loss: 7.8777 - acc: 0.51 - ETA: 20s - loss: 7.8516 - acc: 0.51 - ETA: 21s - loss: 7.8072 - acc: 0.51 - ETA: 21s - loss: 7.8259 - acc: 0.51 - ETA: 21s - loss: 7.8576 - acc: 0.51 - ETA: 21s - loss: 7.8702 - acc: 0.51 - ETA: 21s - loss: 7.8854 - acc: 0.51 - ETA: 22s - loss: 7.8883 - acc: 0.51 - ETA: 22s - loss: 7.8196 - acc: 0.51 - ETA: 22s - loss: 7.7991 - acc: 0.51 - ETA: 22s - loss: 7.8032 - acc: 0.51 - ETA: 22s - loss: 7.7757 - acc: 0.51 - ETA: 23s - loss: 7.7614 - acc: 0.51 - ETA: 23s - loss: 7.7628 - acc: 0.51 - ETA: 23s - loss: 7.7784 - acc: 0.51 - ETA: 23s - loss: 7.7582 - acc: 0.51 - ETA: 22s - loss: 7.7596 - acc: 0.51 - ETA: 22s - loss: 7.7741 - acc: 0.51 - ETA: 22s - loss: 7.7647 - acc: 0.51 - ETA: 23s - loss: 7.7721 - acc: 0.51 - ETA: 24s - loss: 7.7694 - acc: 0.51 - ETA: 24s - loss: 7.7606 - acc: 0.51 - ETA: 24s - loss: 7.7617 - acc: 0.51 - ETA: 24s - loss: 7.7772 - acc: 0.51 - ETA: 24s - loss: 7.7721 - acc: 0.51 - ETA: 24s - loss: 7.7671 - acc: 0.51 - ETA: 24s - loss: 7.7680 - acc: 0.51 - ETA: 24s - loss: 7.7744 - acc: 0.51 - ETA: 24s - loss: 7.7774 - acc: 0.51 - ETA: 24s - loss: 7.7965 - acc: 0.51 - ETA: 24s - loss: 7.8124 - acc: 0.51 - ETA: 24s - loss: 7.8046 - acc: 0.51 - ETA: 25s - loss: 7.8021 - acc: 0.51 - ETA: 25s - loss: 7.8047 - acc: 0.51 - ETA: 25s - loss: 7.8072 - acc: 0.51 - ETA: 25s - loss: 7.8121 - acc: 0.51 - ETA: 25s - loss: 7.8096 - acc: 0.51 - ETA: 25s - loss: 7.8169 - acc: 0.51 - ETA: 25s - loss: 7.8405 - acc: 0.51 - ETA: 25s - loss: 7.8632 - acc: 0.51 - ETA: 25s - loss: 7.8805 - acc: 0.51 - ETA: 25s - loss: 7.8927 - acc: 0.51 - ETA: 25s - loss: 7.8897 - acc: 0.51 - ETA: 25s - loss: 7.9044 - acc: 0.50 - ETA: 25s - loss: 7.8970 - acc: 0.51 - ETA: 25s - loss: 7.9041 - acc: 0.50 - ETA: 25s - loss: 7.9054 - acc: 0.50 - ETA: 25s - loss: 7.9194 - acc: 0.50 - ETA: 25s - loss: 7.9121 - acc: 0.50 - ETA: 26s - loss: 7.8884 - acc: 0.51 - ETA: 26s - loss: 7.8898 - acc: 0.51 - ETA: 26s - loss: 7.9075 - acc: 0.50 - ETA: 25s - loss: 7.9100 - acc: 0.50 - ETA: 25s - loss: 7.9111 - acc: 0.50 - ETA: 25s - loss: 7.9056 - acc: 0.50 - ETA: 25s - loss: 7.9118 - acc: 0.50 - ETA: 25s - loss: 7.9026 - acc: 0.50 - ETA: 25s - loss: 7.9162 - acc: 0.50 - ETA: 25s - loss: 7.9072 - acc: 0.50 - ETA: 25s - loss: 7.9167 - acc: 0.50 - ETA: 24s - loss: 7.9295 - acc: 0.50 - ETA: 24s - loss: 7.9304 - acc: 0.50 - ETA: 24s - loss: 7.9243 - acc: 0.50 - ETA: 24s - loss: 7.9252 - acc: 0.50 - ETA: 24s - loss: 7.9375 - acc: 0.50 - ETA: 24s - loss: 7.9323 - acc: 0.50 - ETA: 24s - loss: 7.9171 - acc: 0.50 - ETA: 24s - loss: 7.9256 - acc: 0.50 - ETA: 24s - loss: 7.9274 - acc: 0.50 - ETA: 24s - loss: 7.9291 - acc: 0.50 - ETA: 23s - loss: 7.9443 - acc: 0.50 - ETA: 23s - loss: 7.9520 - acc: 0.50 - ETA: 23s - loss: 7.9540 - acc: 0.50 - ETA: 23s - loss: 7.9644 - acc: 0.50 - ETA: 22s - loss: 7.9811 - acc: 0.50 - ETA: 22s - loss: 7.9939 - acc: 0.50 - ETA: 22s - loss: 8.0034 - acc: 0.50 - ETA: 22s - loss: 8.0272 - acc: 0.50 - ETA: 22s - loss: 8.0447 - acc: 0.50 - ETA: 22s - loss: 8.0363 - acc: 0.50 - ETA: 22s - loss: 8.0506 - acc: 0.50 - ETA: 22s - loss: 8.0479 - acc: 0.50 - ETA: 22s - loss: 8.0756 - acc: 0.49 - ETA: 22s - loss: 8.0808 - acc: 0.49 - ETA: 22s - loss: 8.0915 - acc: 0.49 - ETA: 22s - loss: 8.1180 - acc: 0.49 - ETA: 22s - loss: 8.1121 - acc: 0.49 - ETA: 22s - loss: 8.1168 - acc: 0.49 - ETA: 22s - loss: 8.1214 - acc: 0.49 - ETA: 21s - loss: 8.1002 - acc: 0.49 - ETA: 21s - loss: 8.1252 - acc: 0.49 - ETA: 21s - loss: 8.1220 - acc: 0.49 - ETA: 21s - loss: 8.1214 - acc: 0.49 - ETA: 21s - loss: 8.1109 - acc: 0.49 - ETA: 21s - loss: 8.1106 - acc: 0.49 - ETA: 21s - loss: 8.0980 - acc: 0.49 - ETA: 21s - loss: 8.0904 - acc: 0.49 - ETA: 21s - loss: 8.0901 - acc: 0.49 - ETA: 21s - loss: 8.0851 - acc: 0.49 - ETA: 21s - loss: 8.0896 - acc: 0.49 - ETA: 21s - loss: 8.1080 - acc: 0.49 - ETA: 21s - loss: 8.1191 - acc: 0.49 - ETA: 21s - loss: 8.1046 - acc: 0.49 - ETA: 21s - loss: 8.1087 - acc: 0.49 - ETA: 21s - loss: 8.0973 - acc: 0.49 - ETA: 20s - loss: 8.1059 - acc: 0.49 - ETA: 20s - loss: 8.1010 - acc: 0.49 - ETA: 20s - loss: 8.0853 - acc: 0.49 - ETA: 20s - loss: 8.0699 - acc: 0.49 - ETA: 20s - loss: 8.0784 - acc: 0.49 - ETA: 20s - loss: 8.0889 - acc: 0.49 - ETA: 20s - loss: 8.0887 - acc: 0.49 - ETA: 20s - loss: 8.0947 - acc: 0.49 - ETA: 20s - loss: 8.1007 - acc: 0.49 - ETA: 20s - loss: 8.1107 - acc: 0.49 - ETA: 19s - loss: 8.1143 - acc: 0.49 - ETA: 19s - loss: 8.1121 - acc: 0.49 - ETA: 19s - loss: 8.1177 - acc: 0.49 - ETA: 19s - loss: 8.1192 - acc: 0.49 - ETA: 19s - loss: 8.1267 - acc: 0.49 - ETA: 19s - loss: 8.1265 - acc: 0.49 - ETA: 19s - loss: 8.1381 - acc: 0.49 - ETA: 19s - loss: 8.1338 - acc: 0.49 - ETA: 19s - loss: 8.1254 - acc: 0.49 - ETA: 19s - loss: 8.1230 - acc: 0.49 - ETA: 19s - loss: 8.1340 - acc: 0.49 - ETA: 19s - loss: 8.1392 - acc: 0.49 - ETA: 19s - loss: 8.1329 - acc: 0.49"
     ]
    }
   ],
   "source": [
    "model.fit(x,y,epochs=4)"
   ]
  },
  {
   "cell_type": "code",
   "execution_count": 21,
   "metadata": {
    "collapsed": true
   },
   "outputs": [],
   "source": [
    "test_data=[]\n",
    "def predict_data():\n",
    "    for i in tqdm(os.listdir(predict)):\n",
    "        \n",
    "        path=os.path.join(predict,i)\n",
    "        feature=cv2.imread(path,0)\n",
    "        feature=cv2.resize(feature,(50,50))\n",
    "        test_data.append([[feature]])\n",
    "    shuffle(test_data)\n",
    "    return test_data"
   ]
  },
  {
   "cell_type": "code",
   "execution_count": 22,
   "metadata": {},
   "outputs": [
    {
     "name": "stderr",
     "output_type": "stream",
     "text": [
      "100%|████████████████████████████████████████████████████████████████████████████| 12500/12500 [04:42<00:00, 44.29it/s]\n"
     ]
    }
   ],
   "source": [
    "test_ar=predict_data()"
   ]
  },
  {
   "cell_type": "code",
   "execution_count": 23,
   "metadata": {},
   "outputs": [
    {
     "data": {
      "text/plain": [
       "array([[ 95, 151,  88, ...,  19, 110, 112]], dtype=uint8)"
      ]
     },
     "execution_count": 23,
     "metadata": {},
     "output_type": "execute_result"
    }
   ],
   "source": [
    "a=np.array(test_ar).ravel()\n",
    "a=a.reshape(12500,2500)\n",
    "a[0].reshape(1,2500)"
   ]
  },
  {
   "cell_type": "code",
   "execution_count": 24,
   "metadata": {},
   "outputs": [
    {
     "data": {
      "text/plain": [
       "array([0., 1.], dtype=float32)"
      ]
     },
     "execution_count": 24,
     "metadata": {},
     "output_type": "execute_result"
    }
   ],
   "source": [
    "b=model.predict(x[44].reshape(1,2500))\n",
    "b[0]"
   ]
  },
  {
   "cell_type": "code",
   "execution_count": 25,
   "metadata": {},
   "outputs": [
    {
     "name": "stdout",
     "output_type": "stream",
     "text": [
      "[1.]\n",
      "Dog\n"
     ]
    },
    {
     "data": {
      "image/png": "[encoded data removed]",
      "text/plain": [
       "<Figure size 432x288 with 1 Axes>"
      ]
     },
     "metadata": {},
     "output_type": "display_data"
    }
   ],
   "source": [
    "print(y[44])\n",
    "if(np.argmax(b)==0):\n",
    "    print('Cat')\n",
    "else:\n",
    "    print('Dog')\n",
    "d=x[44]\n",
    "d.shape=(50,50)\n",
    "plt.imshow(d)\n",
    "plt.show()"
   ]
  },
  {
   "cell_type": "code",
   "execution_count": null,
   "metadata": {
    "collapsed": true
   },
   "outputs": [],
   "source": [
    "from sklearn.neighbors import KNeighborsClassifier\n",
    "knn=KNeighborsClassifier(n_neighbors=5)\n",
    "knn.fit(x,y)"
   ]
  },
  {
   "cell_type": "code",
   "execution_count": null,
   "metadata": {
    "collapsed": true
   },
   "outputs": [],
   "source": []
  }
 ],
 "metadata": {
  "kernelspec": {
   "display_name": "Python 3",
   "language": "python",
   "name": "python3"
  },
  "language_info": {
   "codemirror_mode": {
    "name": "ipython",
    "version": 3
   },
   "file_extension": ".py",
   "mimetype": "text/x-python",
   "name": "python",
   "nbconvert_exporter": "python",
   "pygments_lexer": "ipython3",
   "version": "3.6.7"
  }
 },
 "nbformat": 4,
 "nbformat_minor": 2
}
